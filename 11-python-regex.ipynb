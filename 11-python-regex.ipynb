{
 "cells": [
  {
   "cell_type": "markdown",
   "id": "019e3420",
   "metadata": {},
   "source": [
    "# Regular Expressions"
   ]
  },
  {
   "cell_type": "markdown",
   "id": "716275c9",
   "metadata": {},
   "source": [
    "## Regular Expressions"
   ]
  },
  {
   "cell_type": "code",
   "execution_count": 22,
   "id": "0d7dbf46",
   "metadata": {},
   "outputs": [
    {
     "name": "stdout",
     "output_type": "stream",
     "text": [
      "<re.Match object; span=(7, 11), match='this'>\n",
      "(7, 11)\n",
      "7\n",
      "11\n",
      "this\n",
      "None\n",
      "this\n",
      "['this', 'this']\n",
      "None\n",
      "<re.Match object; span=(0, 38), match='search this inside of this text please'>\n"
     ]
    }
   ],
   "source": [
    "import re\n",
    "\n",
    "string = 'search this inside of this text please!'\n",
    "\n",
    "print(re.search('this', string))\n",
    "\n",
    "match = re.search('this', string)\n",
    "print(match.span())\n",
    "print(match.start())\n",
    "print(match.end())\n",
    "print(match.group())\n",
    "\n",
    "match = re.search('This', string)\n",
    "print(match)\n",
    "\n",
    "pattern = re.compile('this')\n",
    "match = pattern.search(string)\n",
    "print(match.group())\n",
    "match = pattern.findall(string)\n",
    "print(match)\n",
    "\n",
    "pattern = re.compile('search this inside of this text please')\n",
    "match = pattern.fullmatch(string)\n",
    "print(match)\n",
    "match = pattern.match(string)\n",
    "print(match)"
   ]
  },
  {
   "cell_type": "markdown",
   "id": "09c1a394",
   "metadata": {},
   "source": [
    "## Regular Expressions 2"
   ]
  },
  {
   "cell_type": "code",
   "execution_count": 24,
   "id": "8e603e2e",
   "metadata": {
    "scrolled": true
   },
   "outputs": [
    {
     "name": "stdout",
     "output_type": "stream",
     "text": [
      "sea\n",
      "s\n",
      "a\n"
     ]
    }
   ],
   "source": [
    "import re\n",
    "\n",
    "pattern = re.compile(r'([a-zA-Z]).([a])')\n",
    "string = 'search this inside of this text please!'\n",
    "\n",
    "match = pattern.search(string)\n",
    "print(match.group())\n",
    "print(match.group(1))\n",
    "print(match.group(2))"
   ]
  },
  {
   "cell_type": "markdown",
   "id": "20a8ad11",
   "metadata": {},
   "source": [
    "## Regular Expressions 3"
   ]
  },
  {
   "cell_type": "code",
   "execution_count": 25,
   "id": "5639570d",
   "metadata": {},
   "outputs": [
    {
     "name": "stdout",
     "output_type": "stream",
     "text": [
      "<re.Match object; span=(0, 7), match='b@b.com'>\n"
     ]
    }
   ],
   "source": [
    "import re\n",
    "\n",
    "pattern = re.compile(r'(^[a-zA-Z0-9_.+-]+@[a-zA-Z0-9-]+\\.[a-zA-Z0-9-.]+$)')\n",
    "string = 'b@b.com'\n",
    "\n",
    "match = pattern.search(string)\n",
    "print(match)"
   ]
  },
  {
   "cell_type": "markdown",
   "id": "e7fd0c49",
   "metadata": {},
   "source": [
    "## Exercise: Password Validation"
   ]
  },
  {
   "cell_type": "code",
   "execution_count": 33,
   "id": "858d7003",
   "metadata": {},
   "outputs": [
    {
     "name": "stdout",
     "output_type": "stream",
     "text": [
      "<re.Match object; span=(0, 11), match='password101'>\n"
     ]
    }
   ],
   "source": [
    "import re\n",
    "\n",
    "pattern = re.compile(r'[A-Za-z0-9$%#@]{8,}\\d')\n",
    "string = 'password101'\n",
    "\n",
    "check = pattern.fullmatch(string)\n",
    "print(check)"
   ]
  }
 ],
 "metadata": {
  "kernelspec": {
   "display_name": "Python 3 (ipykernel)",
   "language": "python",
   "name": "python3"
  },
  "language_info": {
   "codemirror_mode": {
    "name": "ipython",
    "version": 3
   },
   "file_extension": ".py",
   "mimetype": "text/x-python",
   "name": "python",
   "nbconvert_exporter": "python",
   "pygments_lexer": "ipython3",
   "version": "3.9.7"
  }
 },
 "nbformat": 4,
 "nbformat_minor": 5
}
