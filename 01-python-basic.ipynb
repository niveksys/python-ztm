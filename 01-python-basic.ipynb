{
 "cells": [
  {
   "cell_type": "markdown",
   "id": "0eda0f73",
   "metadata": {},
   "source": [
    "# Python Basic"
   ]
  },
  {
   "cell_type": "markdown",
   "id": "b001518a",
   "metadata": {},
   "source": [
    "## Numbers (int & float)"
   ]
  },
  {
   "cell_type": "code",
   "execution_count": 16,
   "id": "81f237d2",
   "metadata": {},
   "outputs": [
    {
     "name": "stdout",
     "output_type": "stream",
     "text": [
      "6\n",
      "-2\n",
      "8\n",
      "0.5\n",
      "<class 'int'>\n",
      "<class 'int'>\n",
      "<class 'int'>\n",
      "<class 'float'>\n",
      "<class 'float'>\n",
      "<class 'int'>\n",
      "<class 'float'>\n",
      "<class 'float'>\n",
      "<class 'float'>\n",
      "11.0\n",
      "8\n",
      "0\n",
      "1\n",
      "2\n"
     ]
    }
   ],
   "source": [
    "print(2 + 4)\n",
    "print(2 - 4)\n",
    "print(2 * 4)\n",
    "print(2 / 4)\n",
    "\n",
    "print(type(2 + 4))\n",
    "print(type(2 - 4))\n",
    "print(type(2 * 4))\n",
    "print(type(2 / 4))\n",
    "\n",
    "print(type(0.00001))\n",
    "print(type(0))\n",
    "print(type(10.56))\n",
    "\n",
    "print(type(20 + 1.1))\n",
    "print(type(9.9 + 1.1))\n",
    "print(9.9 + 1.1)\n",
    "\n",
    "print(2 ** 3)\n",
    "print(2 // 4)\n",
    "print(5 // 4)\n",
    "print(6 % 4)"
   ]
  },
  {
   "cell_type": "markdown",
   "id": "7f8e8062",
   "metadata": {},
   "source": [
    "## Math Functions\n",
    "https://www.programiz.com/python-programming/modules/math"
   ]
  },
  {
   "cell_type": "code",
   "execution_count": 20,
   "id": "4bd5d7bb",
   "metadata": {},
   "outputs": [
    {
     "name": "stdout",
     "output_type": "stream",
     "text": [
      "3\n",
      "4\n",
      "20\n"
     ]
    }
   ],
   "source": [
    "print(round(3.1))\n",
    "print(round(3.9))\n",
    "print(abs(-20))"
   ]
  },
  {
   "cell_type": "markdown",
   "id": "709ae592",
   "metadata": {},
   "source": [
    "## Operator Precedence"
   ]
  },
  {
   "cell_type": "code",
   "execution_count": 22,
   "id": "6391427a",
   "metadata": {},
   "outputs": [
    {
     "name": "stdout",
     "output_type": "stream",
     "text": [
      "8\n",
      "21\n"
     ]
    }
   ],
   "source": [
    "print(20 - 3 * 4)\n",
    "print((20 - 3) + 2 ** 2)"
   ]
  },
  {
   "cell_type": "markdown",
   "id": "045abaca",
   "metadata": {},
   "source": [
    "## bin() and complex"
   ]
  },
  {
   "cell_type": "code",
   "execution_count": 96,
   "id": "afaebc60",
   "metadata": {},
   "outputs": [
    {
     "name": "stdout",
     "output_type": "stream",
     "text": [
      "<class 'complex'>\n",
      "0b101\n",
      "5\n"
     ]
    }
   ],
   "source": [
    "print(complex)\n",
    "print(bin(5))\n",
    "print(int('0b101', 2))"
   ]
  },
  {
   "cell_type": "markdown",
   "id": "6e0b02f0",
   "metadata": {},
   "source": [
    "## Variables"
   ]
  },
  {
   "cell_type": "code",
   "execution_count": 37,
   "id": "ea343702",
   "metadata": {},
   "outputs": [
    {
     "name": "stdout",
     "output_type": "stream",
     "text": [
      "190\n",
      "47.5\n",
      "3.14\n",
      "0\n",
      "1\n",
      "2\n",
      "3\n"
     ]
    }
   ],
   "source": [
    "user_iq = 190\n",
    "user_age = user_iq / 4\n",
    "print(user_iq)\n",
    "print(user_age)\n",
    "\n",
    "PI = 3.14\n",
    "print(PI)\n",
    "PI = 0\n",
    "print(PI)\n",
    "\n",
    "a,b,c = 1,2,3\n",
    "print(a)\n",
    "print(b)\n",
    "print(c)"
   ]
  },
  {
   "cell_type": "markdown",
   "id": "066f6825",
   "metadata": {},
   "source": [
    "## Augmented Assignment Operator"
   ]
  },
  {
   "cell_type": "code",
   "execution_count": 43,
   "id": "01dbdca6",
   "metadata": {},
   "outputs": [
    {
     "name": "stdout",
     "output_type": "stream",
     "text": [
      "7\n",
      "3\n",
      "10\n"
     ]
    }
   ],
   "source": [
    "some_value = 5\n",
    "some_value += 2\n",
    "print(some_value)\n",
    "some_value = 5\n",
    "some_value -= 2\n",
    "print(some_value)\n",
    "some_value = 5\n",
    "some_value *= 2\n",
    "print(some_value)"
   ]
  },
  {
   "cell_type": "markdown",
   "id": "3c12b35c",
   "metadata": {},
   "source": [
    "## Strings"
   ]
  },
  {
   "cell_type": "code",
   "execution_count": 50,
   "id": "453948ec",
   "metadata": {},
   "outputs": [
    {
     "name": "stdout",
     "output_type": "stream",
     "text": [
      "<class 'str'>\n",
      "<class 'str'>\n",
      "\n",
      "W0W\n",
      "0 0\n",
      "---\n",
      "\n",
      "Kairos Tseng\n"
     ]
    }
   ],
   "source": [
    "print(type('hi hello there 24!'))\n",
    "print(type(\"hi hello there 24!\"))\n",
    "username = 'supercoder'\n",
    "password = 'supersecert'\n",
    "long_string = '''\n",
    "W0W\n",
    "0 0\n",
    "---\n",
    "'''\n",
    "print(long_string)\n",
    "first_name = 'Kairos'\n",
    "last_name = 'Tseng'\n",
    "full_name = first_name + ' ' + last_name\n",
    "print(full_name)"
   ]
  },
  {
   "cell_type": "markdown",
   "id": "b2917be1",
   "metadata": {},
   "source": [
    "## Type Conversion"
   ]
  },
  {
   "cell_type": "code",
   "execution_count": 58,
   "id": "914f9737",
   "metadata": {},
   "outputs": [
    {
     "name": "stdout",
     "output_type": "stream",
     "text": [
      "<class 'str'>\n",
      "<class 'int'>\n"
     ]
    }
   ],
   "source": [
    "print(type(str(100)))\n",
    "print(type(int(str(100))))"
   ]
  },
  {
   "cell_type": "markdown",
   "id": "45c5f7c1",
   "metadata": {},
   "source": [
    "## Escape Sequences"
   ]
  },
  {
   "cell_type": "code",
   "execution_count": 66,
   "id": "f8d61fc9",
   "metadata": {},
   "outputs": [
    {
     "name": "stdout",
     "output_type": "stream",
     "text": [
      "\t It's \"kind of\" sunny \n",
      " hope you have a good day!\n"
     ]
    }
   ],
   "source": [
    "weather = \"\\t It\\'s \\\"kind of\\\" sunny \\n hope you have a good day!\"\n",
    "print(weather)"
   ]
  },
  {
   "cell_type": "markdown",
   "id": "6b309bf6",
   "metadata": {},
   "source": [
    "## Formatted Strings"
   ]
  },
  {
   "cell_type": "code",
   "execution_count": 76,
   "id": "226e849e",
   "metadata": {},
   "outputs": [
    {
     "name": "stdout",
     "output_type": "stream",
     "text": [
      "hi Johnny. You are 55 year old\n",
      "hi Johnny. You are 55 year old\n",
      "hi Johnny. You are 55 year old\n",
      "hi Johnny. You are 55 year old\n",
      "hi Johnny. You are 55 year old\n",
      "hi Sally. You are 100 year old\n"
     ]
    }
   ],
   "source": [
    "name = 'Johnny'\n",
    "age = 55\n",
    "print('hi ' + name + '. You are '+ str(age) + ' year old')\n",
    "print(f'hi {name}. You are {age} year old')\n",
    "print('hi {}. You are {} year old'.format('Johnny', '55'))\n",
    "print('hi {}. You are {} year old'.format(name, age))\n",
    "print('hi {1}. You are {0} year old'.format(age, name))\n",
    "print('hi {new_name}. You are {age} year old'.format(new_name = 'Sally', age = 100))"
   ]
  },
  {
   "cell_type": "markdown",
   "id": "f32e3e81",
   "metadata": {},
   "source": [
    "## String Indexes"
   ]
  },
  {
   "cell_type": "code",
   "execution_count": 90,
   "id": "e25eb5a9",
   "metadata": {},
   "outputs": [
    {
     "name": "stdout",
     "output_type": "stream",
     "text": [
      "01234567\n",
      "0\n",
      "7\n",
      "01\n",
      "0123456\n",
      "0246\n",
      "1234567\n",
      "01234\n",
      "01234567\n",
      "7\n",
      "5\n",
      "76543210\n",
      "7531\n"
     ]
    }
   ],
   "source": [
    "selfish = '01234567'\n",
    "print(selfish)\n",
    "print(selfish[0])\n",
    "print(selfish[7])\n",
    "print(selfish[0:2])\n",
    "print(selfish[0:7])\n",
    "print(selfish[0:8:2])\n",
    "print(selfish[1:])\n",
    "print(selfish[:5])\n",
    "print(selfish[::1])\n",
    "print(selfish[-1])\n",
    "print(selfish[-3])\n",
    "print(selfish[::-1])\n",
    "print(selfish[::-2])"
   ]
  },
  {
   "cell_type": "markdown",
   "id": "42b9869a",
   "metadata": {},
   "source": [
    "## Immutability"
   ]
  },
  {
   "cell_type": "code",
   "execution_count": 92,
   "id": "f56a05d4",
   "metadata": {},
   "outputs": [
    {
     "ename": "TypeError",
     "evalue": "'str' object does not support item assignment",
     "output_type": "error",
     "traceback": [
      "\u001b[0;31m---------------------------------------------------------------------------\u001b[0m",
      "\u001b[0;31mTypeError\u001b[0m                                 Traceback (most recent call last)",
      "\u001b[0;32m/var/folders/fb/l___8l6168d4hjzdbd5vlxg80000gn/T/ipykernel_12899/2795911763.py\u001b[0m in \u001b[0;36m<module>\u001b[0;34m\u001b[0m\n\u001b[1;32m      1\u001b[0m \u001b[0mselfish\u001b[0m \u001b[0;34m=\u001b[0m \u001b[0;34m'01234567'\u001b[0m\u001b[0;34m\u001b[0m\u001b[0;34m\u001b[0m\u001b[0m\n\u001b[0;32m----> 2\u001b[0;31m \u001b[0mselfish\u001b[0m\u001b[0;34m[\u001b[0m\u001b[0;36m0\u001b[0m\u001b[0;34m]\u001b[0m \u001b[0;34m=\u001b[0m \u001b[0;34m'8'\u001b[0m\u001b[0;34m\u001b[0m\u001b[0;34m\u001b[0m\u001b[0m\n\u001b[0m",
      "\u001b[0;31mTypeError\u001b[0m: 'str' object does not support item assignment"
     ]
    }
   ],
   "source": [
    "selfish = '01234567'\n",
    "selfish[0] = '8'"
   ]
  },
  {
   "cell_type": "markdown",
   "id": "a25b6245",
   "metadata": {},
   "source": [
    "## Build-In Functions + Methods"
   ]
  },
  {
   "cell_type": "code",
   "execution_count": 115,
   "id": "414ce622",
   "metadata": {},
   "outputs": [
    {
     "name": "stdout",
     "output_type": "stream",
     "text": [
      "9\n",
      "hellloooo\n",
      "TO BE OR NOT TO BE\n",
      "To be or not to be\n",
      "3\n",
      "to me or not to me\n"
     ]
    }
   ],
   "source": [
    "print(len('hellloooo'))\n",
    "greet = 'hellloooo'\n",
    "print(greet[0:len(greet)])\n",
    "quote = 'to be or not to be'\n",
    "print(quote.upper())\n",
    "print(quote.capitalize())\n",
    "print(quote.find('be'))\n",
    "print(quote.replace('be', 'me'))"
   ]
  },
  {
   "cell_type": "markdown",
   "id": "b38505f4",
   "metadata": {},
   "source": [
    "## Booleans"
   ]
  },
  {
   "cell_type": "code",
   "execution_count": null,
   "id": "6c744bd0",
   "metadata": {},
   "outputs": [],
   "source": [
    "# booleans\n",
    "name = 'Kairos' # this assigns to a variable\n",
    "is_cool = False\n",
    "is_cool = True\n",
    "print(bool(1))\n",
    "print(bool(0))\n",
    "print(bool('True'))"
   ]
  },
  {
   "cell_type": "markdown",
   "id": "563e3a71",
   "metadata": {},
   "source": [
    "## Exercise: Type Conversion"
   ]
  },
  {
   "cell_type": "code",
   "execution_count": 117,
   "id": "3f0fa7fb",
   "metadata": {
    "scrolled": true
   },
   "outputs": [
    {
     "name": "stdout",
     "output_type": "stream",
     "text": [
      "what year were you born?1981\n",
      "<class 'str'>\n",
      "your age is: 41\n"
     ]
    }
   ],
   "source": [
    "name = 'Kairos Tseng'\n",
    "birth_year = input('what year were you born?')\n",
    "print(type(birth_year))\n",
    "age = 2022 - int(birth_year)\n",
    "print(f'your age is: {age}')"
   ]
  },
  {
   "cell_type": "markdown",
   "id": "c07250c7",
   "metadata": {},
   "source": [
    "## Exercise: Password Checker"
   ]
  },
  {
   "cell_type": "code",
   "execution_count": 119,
   "id": "a045b1cf",
   "metadata": {},
   "outputs": [
    {
     "name": "stdout",
     "output_type": "stream",
     "text": [
      "What is your username?KAiros\n",
      "What is your password?123456\n",
      "KAiros, your password ****** is 6 letters long.\n"
     ]
    }
   ],
   "source": [
    "username = input('What is your username?')\n",
    "password = input('What is your password?')\n",
    "password_length = len(password)\n",
    "hidden_password = '*' * password_length\n",
    "print(f'{username}, your password {hidden_password} is {password_length} letters long.')"
   ]
  },
  {
   "cell_type": "markdown",
   "id": "3a32177e",
   "metadata": {},
   "source": [
    "## List"
   ]
  },
  {
   "cell_type": "code",
   "execution_count": 120,
   "id": "ed61234e",
   "metadata": {},
   "outputs": [
    {
     "name": "stdout",
     "output_type": "stream",
     "text": [
      "sunglasses\n"
     ]
    }
   ],
   "source": [
    "li = [1,2,3,4,5]\n",
    "li2 = ['a', 'b', 'c']\n",
    "li3 = [1,2,'a', True]\n",
    "\n",
    "amazon_cart = ['notebooks', 'sunglasses']\n",
    "print(amazon_cart[1])"
   ]
  },
  {
   "cell_type": "markdown",
   "id": "4780872a",
   "metadata": {},
   "source": [
    "## List Slicing"
   ]
  },
  {
   "cell_type": "code",
   "execution_count": 128,
   "id": "f5dedde7",
   "metadata": {},
   "outputs": [
    {
     "name": "stdout",
     "output_type": "stream",
     "text": [
      "['notebooks', 'sunglasses']\n",
      "['notebooks', 'toys']\n",
      "['laptop', 'sunglasses', 'toys']\n",
      "['laptop', 'sunglasses', 'toys', 'grapes']\n",
      "['gum', 'sunglasses', 'toys', 'grapes']\n",
      "['gum', 'sunglasses', 'toys', 'grapes']\n",
      "['gum', 'sunglasses', 'toys', 'grapes']\n",
      "['notebooks', 'sunglasses', 'toys', 'grapes']\n"
     ]
    }
   ],
   "source": [
    "# List Slicing\n",
    "amazon_cart = ['notebooks', 'sunglasses', 'toys', 'grapes']\n",
    "print(amazon_cart[0:2])\n",
    "print(amazon_cart[0::2])\n",
    "amazon_cart[0] = 'laptop'\n",
    "print(amazon_cart[0:3])\n",
    "print(amazon_cart)\n",
    "\n",
    "new_cart = amazon_cart\n",
    "new_cart[0] = 'gum'\n",
    "print(new_cart)\n",
    "print(amazon_cart)\n",
    "\n",
    "amazon_cart = ['notebooks', 'sunglasses', 'toys', 'grapes']\n",
    "new_cart = amazon_cart[:]\n",
    "new_cart[0] = 'gum'\n",
    "print(new_cart)\n",
    "print(amazon_cart)"
   ]
  },
  {
   "cell_type": "markdown",
   "id": "d25cac9b",
   "metadata": {},
   "source": [
    "## Matrix"
   ]
  },
  {
   "cell_type": "code",
   "execution_count": 131,
   "id": "16d21679",
   "metadata": {},
   "outputs": [
    {
     "name": "stdout",
     "output_type": "stream",
     "text": [
      "5\n"
     ]
    }
   ],
   "source": [
    "matrix = [\n",
    "    [1,5,1],\n",
    "    [0,1,0],\n",
    "    [1,0,1]\n",
    "]\n",
    "print(matrix[0][1])"
   ]
  },
  {
   "cell_type": "markdown",
   "id": "9972563a",
   "metadata": {},
   "source": [
    "## List Methods"
   ]
  },
  {
   "cell_type": "code",
   "execution_count": 151,
   "id": "6268028a",
   "metadata": {},
   "outputs": [
    {
     "name": "stdout",
     "output_type": "stream",
     "text": [
      "5\n",
      "[1, 2, 3, 4, 5, 100]\n",
      "[1, 2, 3, 4, 5, 100]\n",
      "[1, 2, 3, 4, 5, 100]\n",
      "[1, 2, 3, 4, 5, 100]\n",
      "[1, 2, 3, 4, 5, 100, 101]\n",
      "[1, 2, 3, 4, 5, 100, 101]\n",
      "[1, 2, 3, 4]\n",
      "[2, 3, 4, 5]\n",
      "[1, 2, 3, 5]\n",
      "5\n",
      "[]\n"
     ]
    }
   ],
   "source": [
    "basket = [1,2,3,4,5]\n",
    "print(len(basket))\n",
    "\n",
    "#adding\n",
    "basket = [1,2,3,4,5]\n",
    "basket.append(100)\n",
    "new_list = basket\n",
    "print(basket)\n",
    "print(new_list)\n",
    "\n",
    "basket = [1,2,3,4,5]\n",
    "basket.insert(5, 100)\n",
    "new_list = basket\n",
    "print(basket)\n",
    "print(new_list)\n",
    "\n",
    "basket = [1,2,3,4,5]\n",
    "basket.extend([100, 101])\n",
    "new_list = basket\n",
    "print(basket)\n",
    "print(new_list)\n",
    "\n",
    "#removing\n",
    "basket = [1,2,3,4,5]\n",
    "basket.pop()\n",
    "print(basket)\n",
    "\n",
    "basket = [1,2,3,4,5]\n",
    "basket.pop(0)\n",
    "print(basket)\n",
    "\n",
    "basket = [1,2,3,4,5]\n",
    "basket.remove(4)\n",
    "print(basket)\n",
    "\n",
    "basket = [1,2,3,4,5]\n",
    "new_list = basket.pop(4)\n",
    "print(new_list)\n",
    "\n",
    "basket = [1,2,3,4,5]\n",
    "basket.clear()\n",
    "print(basket)"
   ]
  },
  {
   "cell_type": "markdown",
   "id": "3f4ceeac",
   "metadata": {},
   "source": [
    "## List Methods 2"
   ]
  },
  {
   "cell_type": "code",
   "execution_count": 163,
   "id": "0ddcb693",
   "metadata": {},
   "outputs": [
    {
     "name": "stdout",
     "output_type": "stream",
     "text": [
      "3\n",
      "3\n",
      "False\n",
      "True\n",
      "1\n"
     ]
    }
   ],
   "source": [
    "basket = ['a','b','c','d','e']\n",
    "print(basket.index('d'))\n",
    "print(basket.index('d', 0, 4))\n",
    "print('x' in basket)\n",
    "print('i' in 'hi my name is Ian')\n",
    "print(basket.count('d'))"
   ]
  },
  {
   "cell_type": "markdown",
   "id": "42d71bcd",
   "metadata": {},
   "source": [
    "## List Methods 3"
   ]
  },
  {
   "cell_type": "code",
   "execution_count": 170,
   "id": "9181bace",
   "metadata": {},
   "outputs": [
    {
     "name": "stdout",
     "output_type": "stream",
     "text": [
      "['a', 'b', 'c', 'd', 'd', 'e']\n",
      "['a', 'b', 'c', 'd', 'd', 'e', 'x']\n",
      "['a', 'x', 'b', 'c', 'd', 'e', 'd']\n",
      "['a', 'b', 'c', 'd', 'd', 'e', 'x']\n",
      "['a', 'x', 'b', 'c', 'd', 'e', 'd']\n",
      "['x', 'e', 'd', 'd', 'c', 'b', 'a']\n"
     ]
    }
   ],
   "source": [
    "basket = ['a','b','c','d','e','d']\n",
    "basket.sort()\n",
    "print(basket)\n",
    "\n",
    "basket = ['a','x','b','c','d','e','d']\n",
    "print(sorted(basket))\n",
    "print(basket)\n",
    "\n",
    "basket = ['a','x','b','c','d','e','d']\n",
    "new_basket = basket[:]\n",
    "# new_basket = basket.copy()\n",
    "new_basket.sort()\n",
    "print(new_basket)\n",
    "print(basket)\n",
    "\n",
    "basket = ['a','x','b','c','d','e','d']\n",
    "basket.sort()\n",
    "basket.reverse()\n",
    "print(basket)"
   ]
  },
  {
   "cell_type": "markdown",
   "id": "abff45d9",
   "metadata": {},
   "source": [
    "## Common List Patterns"
   ]
  },
  {
   "cell_type": "code",
   "execution_count": 183,
   "id": "19f84263",
   "metadata": {},
   "outputs": [
    {
     "name": "stdout",
     "output_type": "stream",
     "text": [
      "['a', 'b', 'c', 'd', 'd', 'e', 'x']\n",
      "['x', 'e', 'd', 'd', 'c', 'b', 'a']\n",
      "range(1, 100)\n",
      "[1, 2, 3, 4, 5, 6, 7, 8, 9, 10, 11, 12, 13, 14, 15, 16, 17, 18, 19, 20, 21, 22, 23, 24, 25, 26, 27, 28, 29, 30, 31, 32, 33, 34, 35, 36, 37, 38, 39, 40, 41, 42, 43, 44, 45, 46, 47, 48, 49, 50, 51, 52, 53, 54, 55, 56, 57, 58, 59, 60, 61, 62, 63, 64, 65, 66, 67, 68, 69, 70, 71, 72, 73, 74, 75, 76, 77, 78, 79, 80, 81, 82, 83, 84, 85, 86, 87, 88, 89, 90, 91, 92, 93, 94, 95, 96, 97, 98, 99]\n",
      "[0, 1, 2, 3, 4, 5, 6, 7, 8, 9, 10, 11, 12, 13, 14, 15, 16, 17, 18, 19, 20, 21, 22, 23, 24, 25, 26, 27, 28, 29, 30, 31, 32, 33, 34, 35, 36, 37, 38, 39, 40, 41, 42, 43, 44, 45, 46, 47, 48, 49, 50, 51, 52, 53, 54, 55, 56, 57, 58, 59, 60, 61, 62, 63, 64, 65, 66, 67, 68, 69, 70, 71, 72, 73, 74, 75, 76, 77, 78, 79, 80, 81, 82, 83, 84, 85, 86, 87, 88, 89, 90, 91, 92, 93, 94, 95, 96, 97, 98, 99, 100]\n",
      "hi my name is JOJO\n"
     ]
    }
   ],
   "source": [
    "basket = ['a','x','b','c','d','e','d']\n",
    "basket.sort()\n",
    "basket.reverse()\n",
    "print(basket[::-1])\n",
    "print(basket)\n",
    "\n",
    "basket = ['a','x','b','c','d','e','d']\n",
    "print(range(1,100))\n",
    "print(list(range(1,100)))\n",
    "print(list(range(101)))\n",
    "\n",
    "new_sentence = ' '.join(['hi', 'my', 'name', 'is', 'JOJO'])\n",
    "print(new_sentence)"
   ]
  },
  {
   "cell_type": "markdown",
   "id": "6ea4257c",
   "metadata": {},
   "source": [
    "## List Unpacking"
   ]
  },
  {
   "cell_type": "code",
   "execution_count": 189,
   "id": "4ff46a0f",
   "metadata": {},
   "outputs": [
    {
     "name": "stdout",
     "output_type": "stream",
     "text": [
      "1\n",
      "2\n",
      "3\n",
      "[4, 5, 6, 7, 8]\n",
      "9\n"
     ]
    }
   ],
   "source": [
    "# list unpacking\n",
    "a,b,c, *other, d = [1,2,3,4,5,6,7,8,9]\n",
    "print(a)\n",
    "print(b)\n",
    "print(c)\n",
    "print(other)\n",
    "print(d)"
   ]
  },
  {
   "cell_type": "markdown",
   "id": "4310a7cd",
   "metadata": {},
   "source": [
    "## None"
   ]
  },
  {
   "cell_type": "code",
   "execution_count": 190,
   "id": "0e7b8497",
   "metadata": {},
   "outputs": [
    {
     "name": "stdout",
     "output_type": "stream",
     "text": [
      "None\n"
     ]
    }
   ],
   "source": [
    "weapons = None\n",
    "print(weapons)"
   ]
  },
  {
   "cell_type": "markdown",
   "id": "1ab88159",
   "metadata": {},
   "source": [
    "## Dictionaries"
   ]
  },
  {
   "cell_type": "code",
   "execution_count": 198,
   "id": "b6fb9d6e",
   "metadata": {},
   "outputs": [
    {
     "name": "stdout",
     "output_type": "stream",
     "text": [
      "2\n",
      "{'a': 1, 'b': 2, 'x': 3}\n",
      "[1, 2, 3]\n",
      "2\n",
      "3\n"
     ]
    }
   ],
   "source": [
    "dictionary = {\n",
    "    'a': 1,\n",
    "    'b': 2,\n",
    "    'x': 3\n",
    "}\n",
    "print(dictionary['b'])\n",
    "print(dictionary)\n",
    "\n",
    "dictionary = {\n",
    "    'a': [1,2,3],\n",
    "    'b': 'hello',\n",
    "    'x': True\n",
    "}\n",
    "print(dictionary['a'])\n",
    "print(dictionary['a'][1])\n",
    "\n",
    "my_list = [\n",
    "    {\n",
    "        'a': [1,2,3],\n",
    "        'b': 'hello',\n",
    "        'x': True\n",
    "    },\n",
    "    {\n",
    "        'a': [4,5,6],\n",
    "        'b': 'hello',\n",
    "        'x': True\n",
    "    },\n",
    "]\n",
    "print(my_list[0]['a'][2])"
   ]
  },
  {
   "cell_type": "markdown",
   "id": "b7597076",
   "metadata": {},
   "source": [
    "## Dictionary Keys"
   ]
  },
  {
   "cell_type": "code",
   "execution_count": 205,
   "id": "abd4f22c",
   "metadata": {},
   "outputs": [
    {
     "name": "stdout",
     "output_type": "stream",
     "text": [
      "[1, 2, 3]\n",
      "hello\n",
      "hello\n"
     ]
    }
   ],
   "source": [
    "dictionary = {\n",
    "    123: [1,2,3],\n",
    "    True: 'hello',\n",
    "    'is_Magic': True\n",
    "}\n",
    "print(dictionary[123])\n",
    "print(dictionary[True])\n",
    "\n",
    "dictionary = {\n",
    "    '123': [1,2,3],\n",
    "    '123': 'hello',\n",
    "}\n",
    "print(dictionary['123'])"
   ]
  },
  {
   "cell_type": "markdown",
   "id": "318fa17d",
   "metadata": {},
   "source": [
    "## Dictionary Methods"
   ]
  },
  {
   "cell_type": "code",
   "execution_count": 210,
   "id": "e00bd787",
   "metadata": {},
   "outputs": [
    {
     "name": "stdout",
     "output_type": "stream",
     "text": [
      "None\n",
      "55\n",
      "20\n",
      "{'name': 'JohnJohn'}\n"
     ]
    }
   ],
   "source": [
    "user = {\n",
    "    'basket': [1,2,3],\n",
    "    'greet': 'hello',\n",
    "}\n",
    "print(user.get('age'))\n",
    "print(user.get('age',55))\n",
    "\n",
    "user = {\n",
    "    'basket': [1,2,3],\n",
    "    'greet': 'hello',\n",
    "    'age': 20\n",
    "}\n",
    "print(user.get('age',55))\n",
    "\n",
    "user2 = dict(name='JohnJohn')\n",
    "print(user2)"
   ]
  },
  {
   "cell_type": "markdown",
   "id": "ad68e4d4",
   "metadata": {},
   "source": [
    "## Dictionary Methods 2"
   ]
  },
  {
   "cell_type": "code",
   "execution_count": 227,
   "id": "264b3ac0",
   "metadata": {},
   "outputs": [
    {
     "name": "stdout",
     "output_type": "stream",
     "text": [
      "True\n",
      "False\n",
      "False\n",
      "True\n",
      "True\n",
      "dict_items([('basket', [1, 2, 3]), ('greet', 'hello'), ('age', 20)])\n",
      "{}\n",
      "None\n",
      "{'basket': [1, 2, 3], 'greet': 'hello', 'age': 20}\n",
      "20\n",
      "{'basket': [1, 2, 3], 'greet': 'hello'}\n",
      "('age', 20)\n",
      "{'basket': [1, 2, 3], 'greet': 'hello'}\n",
      "None\n",
      "None\n",
      "{'basket': [1, 2, 3], 'greet': 'hello', 'age': 55, 'ages': 55}\n"
     ]
    }
   ],
   "source": [
    "user = {\n",
    "    'basket': [1,2,3],\n",
    "    'greet': 'hello',\n",
    "    'age': 20\n",
    "}\n",
    "\n",
    "print('basket' in user)\n",
    "print('user' in user)\n",
    "\n",
    "print('hello' in user.keys())\n",
    "print('age' in user.keys())\n",
    "print('hello' in user.values())\n",
    "print(user.items())\n",
    "\n",
    "user.clear()\n",
    "print(user)\n",
    "\n",
    "user = {\n",
    "    'basket': [1,2,3],\n",
    "    'greet': 'hello',\n",
    "    'age': 20\n",
    "}\n",
    "user2 = user.copy()\n",
    "print(user.clear())\n",
    "print(user2)\n",
    "\n",
    "user = {\n",
    "    'basket': [1,2,3],\n",
    "    'greet': 'hello',\n",
    "    'age': 20\n",
    "}\n",
    "print(user.pop('age'))\n",
    "print(user)\n",
    "\n",
    "user = {\n",
    "    'basket': [1,2,3],\n",
    "    'greet': 'hello',\n",
    "    'age': 20\n",
    "}\n",
    "print(user.popitem())\n",
    "print(user)\n",
    "\n",
    "\n",
    "user = {\n",
    "    'basket': [1,2,3],\n",
    "    'greet': 'hello',\n",
    "    'age': 20\n",
    "}\n",
    "print(user.update({'age': 55}))\n",
    "print(user.update({'ages': 55}))\n",
    "print(user)"
   ]
  },
  {
   "cell_type": "markdown",
   "id": "2afd9f82",
   "metadata": {},
   "source": [
    "## Tuples"
   ]
  },
  {
   "cell_type": "code",
   "execution_count": 232,
   "id": "a61cb39a",
   "metadata": {},
   "outputs": [
    {
     "name": "stdout",
     "output_type": "stream",
     "text": [
      "2\n",
      "True\n",
      "dict_items([('basket', [1, 2, 3]), ('greet', 'hello'), ('age', 20)])\n",
      "[1, 2, 3]\n"
     ]
    }
   ],
   "source": [
    "my_tuple = (1,2,3,4,5)\n",
    "print(my_tuple[1])\n",
    "print(5 in my_tuple)\n",
    "\n",
    "user = {\n",
    "    'basket': [1,2,3],\n",
    "    'greet': 'hello',\n",
    "    'age': 20\n",
    "}\n",
    "print(user.items())\n",
    "\n",
    "user = {\n",
    "    (1,2): [1,2,3],\n",
    "    'greet': 'hello',\n",
    "    'age': 20\n",
    "}\n",
    "print(user[(1,2)])"
   ]
  },
  {
   "cell_type": "markdown",
   "id": "2d0e5559",
   "metadata": {},
   "source": [
    "## Tuples 2"
   ]
  },
  {
   "cell_type": "code",
   "execution_count": 246,
   "id": "d7148b19",
   "metadata": {},
   "outputs": [
    {
     "name": "stdout",
     "output_type": "stream",
     "text": [
      "(2,)\n",
      "(2, 3, 4)\n",
      "1\n",
      "2\n",
      "3\n",
      "[4, 5]\n",
      "1\n",
      "4\n",
      "5\n"
     ]
    }
   ],
   "source": [
    "my_tuple = (1,2,3,4,5)\n",
    "new_tuple = my_tuple[1:2]\n",
    "print(new_tuple)\n",
    "new_tuple = my_tuple[1:4]\n",
    "print(new_tuple)\n",
    "\n",
    "x,y,z, *other = (1,2,3,4,5)\n",
    "print(x)\n",
    "print(y)\n",
    "print(z)\n",
    "print(other)\n",
    "\n",
    "my_tuple = (1,2,3,4,5)\n",
    "print(my_tuple.count(5))\n",
    "print(my_tuple.index(5))\n",
    "print(len(my_tuple))"
   ]
  },
  {
   "cell_type": "markdown",
   "id": "7a85a1b6",
   "metadata": {},
   "source": [
    "## Sets"
   ]
  },
  {
   "cell_type": "code",
   "execution_count": 259,
   "id": "8b689e34",
   "metadata": {},
   "outputs": [
    {
     "name": "stdout",
     "output_type": "stream",
     "text": [
      "{1, 2, 3, 4, 5, 100}\n",
      "{1, 2, 3, 4, 5}\n",
      "True\n",
      "5\n",
      "[1, 2, 3, 4, 5]\n",
      "{1, 2, 3, 4, 5}\n",
      "set()\n"
     ]
    }
   ],
   "source": [
    "my_set = {1,2,3,4,5,5}\n",
    "my_set.add(100)\n",
    "my_set.add(2)\n",
    "print(my_set)\n",
    "\n",
    "my_list = [1,2,3,4,5,5]\n",
    "print(set(my_list))\n",
    "\n",
    "my_set = {1,2,3,4,5,5}\n",
    "print(1 in my_set)\n",
    "print(len(my_set))\n",
    "print(list(my_set))\n",
    "\n",
    "new_set = my_set.copy()\n",
    "my_set.clear()\n",
    "print(new_set)\n",
    "print(my_set)"
   ]
  },
  {
   "cell_type": "markdown",
   "id": "cdbc5712",
   "metadata": {},
   "source": [
    "## Sets 2"
   ]
  },
  {
   "cell_type": "code",
   "execution_count": 274,
   "id": "441b45a7",
   "metadata": {},
   "outputs": [
    {
     "name": "stdout",
     "output_type": "stream",
     "text": [
      "{1, 2, 3}\n",
      "None\n",
      "{1, 2, 3, 4}\n",
      "None\n",
      "{1, 2, 3}\n",
      "{4, 5}\n",
      "{4, 5}\n",
      "False\n",
      "{1, 2, 3, 4, 5, 6, 7, 8, 9, 10}\n",
      "{1, 2, 3, 4, 5, 6, 7, 8, 9, 10}\n",
      "True\n",
      "False\n",
      "True\n"
     ]
    }
   ],
   "source": [
    "my_set = {1,2,3,4,5}\n",
    "your_set = {4,5,6,7,8,9,10}\n",
    "\n",
    "print(my_set.difference(your_set))\n",
    "print(my_set.discard(5))\n",
    "print(my_set)\n",
    "\n",
    "my_set = {1,2,3,4,5}\n",
    "your_set = {4,5,6,7,8,9,10}\n",
    "\n",
    "print(my_set.difference_update(your_set))\n",
    "print(my_set)\n",
    "\n",
    "my_set = {1,2,3,4,5}\n",
    "your_set = {4,5,6,7,8,9,10}\n",
    "print(my_set.intersection(your_set))\n",
    "print(my_set & your_set)\n",
    "print(my_set.isdisjoint(your_set))\n",
    "\n",
    "print(my_set.union(your_set))\n",
    "print(my_set | your_set)\n",
    "\n",
    "my_set = {4,5}\n",
    "your_set = {4,5,6,7,8,9,10}\n",
    "print(my_set.issubset(your_set))\n",
    "print(my_set.issuperset(your_set))\n",
    "print(your_set.issuperset(my_set))"
   ]
  }
 ],
 "metadata": {
  "kernelspec": {
   "display_name": "Python 3 (ipykernel)",
   "language": "python",
   "name": "python3"
  },
  "language_info": {
   "codemirror_mode": {
    "name": "ipython",
    "version": 3
   },
   "file_extension": ".py",
   "mimetype": "text/x-python",
   "name": "python",
   "nbconvert_exporter": "python",
   "pygments_lexer": "ipython3",
   "version": "3.9.7"
  }
 },
 "nbformat": 4,
 "nbformat_minor": 5
}
