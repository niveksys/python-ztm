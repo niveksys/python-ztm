{
 "cells": [
  {
   "cell_type": "markdown",
   "id": "d7a864f0",
   "metadata": {},
   "source": [
    "# Advanced Python: Error Handling"
   ]
  },
  {
   "cell_type": "markdown",
   "id": "1fba87bf",
   "metadata": {},
   "source": [
    "## Error Handling"
   ]
  },
  {
   "cell_type": "code",
   "execution_count": 6,
   "id": "85119daa",
   "metadata": {},
   "outputs": [
    {
     "name": "stdout",
     "output_type": "stream",
     "text": [
      "what is your age?10\n",
      "thank you!\n"
     ]
    }
   ],
   "source": [
    "while True:\n",
    "    try:\n",
    "        age = int(input('what is your age?'))\n",
    "#         print(age)\n",
    "        10/age\n",
    "    except ValueError:\n",
    "        print('please enter a number')\n",
    "    except ZeroDivisionError:\n",
    "        print('please enter age greater than 0')\n",
    "    else:\n",
    "        print('thank you!')\n",
    "        break"
   ]
  },
  {
   "cell_type": "markdown",
   "id": "cc59d7d7",
   "metadata": {},
   "source": [
    "## Error Handling 2"
   ]
  },
  {
   "cell_type": "code",
   "execution_count": 24,
   "id": "833faf09",
   "metadata": {},
   "outputs": [
    {
     "name": "stdout",
     "output_type": "stream",
     "text": [
      "can only concatenate str (not \"int\") to str\n",
      "None\n",
      "division by zero\n",
      "None\n"
     ]
    }
   ],
   "source": [
    "def sum(num1, num2):\n",
    "    try:\n",
    "        return num1 + num2\n",
    "    except TypeError as err:\n",
    "#         print(f'please enter numbers {err}')\n",
    "        print(err)\n",
    "\n",
    "print(sum('1', 2))\n",
    "\n",
    "\n",
    "def sum(num1, num2):\n",
    "    try:\n",
    "        return num1/num2\n",
    "    except (TypeError, ZeroDivisionError) as err:\n",
    "#         print('ooops')\n",
    "        print(err)\n",
    "\n",
    "print(sum(1, 0))"
   ]
  },
  {
   "cell_type": "markdown",
   "id": "e563dcd5",
   "metadata": {},
   "source": [
    "## Exercise: Error Handling"
   ]
  },
  {
   "cell_type": "code",
   "execution_count": 33,
   "id": "e4d67378",
   "metadata": {},
   "outputs": [
    {
     "name": "stdout",
     "output_type": "stream",
     "text": [
      "what is your age?89\n",
      "thank you!\n",
      "ok, i am finally done\n",
      "can you hear me?\n",
      "what is your age?8\n",
      "thank you!\n",
      "ok, i am finally done\n",
      "can you hear me?\n",
      "what is your age?0\n",
      "please enter age greater than 0\n",
      "ok, i am finally done\n"
     ]
    }
   ],
   "source": [
    "while True:\n",
    "    try:\n",
    "        age = int(input('what is your age?'))\n",
    "        10/age\n",
    "    except ValueError:\n",
    "        print('please enter a number')\n",
    "        continue\n",
    "    except ZeroDivisionError:\n",
    "        print('please enter age greater than 0')\n",
    "        break\n",
    "    else:\n",
    "        print('thank you!')\n",
    "    finally:\n",
    "        print('ok, i am finally done')\n",
    "    print('can you hear me?')"
   ]
  },
  {
   "cell_type": "markdown",
   "id": "58104b73",
   "metadata": {},
   "source": [
    "## Error Handling 3"
   ]
  },
  {
   "cell_type": "code",
   "execution_count": 38,
   "id": "5bb7d04c",
   "metadata": {},
   "outputs": [
    {
     "name": "stdout",
     "output_type": "stream",
     "text": [
      "what is your age?5\n",
      "ok, i am finally done\n"
     ]
    },
    {
     "ename": "Exception",
     "evalue": "hey cut it out",
     "output_type": "error",
     "traceback": [
      "\u001b[0;31m---------------------------------------------------------------------------\u001b[0m",
      "\u001b[0;31mException\u001b[0m                                 Traceback (most recent call last)",
      "\u001b[0;32m/var/folders/fb/l___8l6168d4hjzdbd5vlxg80000gn/T/ipykernel_5544/1952387428.py\u001b[0m in \u001b[0;36m<module>\u001b[0;34m\u001b[0m\n\u001b[1;32m      3\u001b[0m         \u001b[0mage\u001b[0m \u001b[0;34m=\u001b[0m \u001b[0mint\u001b[0m\u001b[0;34m(\u001b[0m\u001b[0minput\u001b[0m\u001b[0;34m(\u001b[0m\u001b[0;34m'what is your age?'\u001b[0m\u001b[0;34m)\u001b[0m\u001b[0;34m)\u001b[0m\u001b[0;34m\u001b[0m\u001b[0;34m\u001b[0m\u001b[0m\n\u001b[1;32m      4\u001b[0m         \u001b[0;36m10\u001b[0m\u001b[0;34m/\u001b[0m\u001b[0mage\u001b[0m\u001b[0;34m\u001b[0m\u001b[0;34m\u001b[0m\u001b[0m\n\u001b[0;32m----> 5\u001b[0;31m         \u001b[0;32mraise\u001b[0m \u001b[0mException\u001b[0m\u001b[0;34m(\u001b[0m\u001b[0;34m'hey cut it out'\u001b[0m\u001b[0;34m)\u001b[0m\u001b[0;34m\u001b[0m\u001b[0;34m\u001b[0m\u001b[0m\n\u001b[0m\u001b[1;32m      6\u001b[0m     \u001b[0;32mexcept\u001b[0m \u001b[0mZeroDivisionError\u001b[0m\u001b[0;34m:\u001b[0m\u001b[0;34m\u001b[0m\u001b[0;34m\u001b[0m\u001b[0m\n\u001b[1;32m      7\u001b[0m         \u001b[0mprint\u001b[0m\u001b[0;34m(\u001b[0m\u001b[0;34m'please enter age greater than 0'\u001b[0m\u001b[0;34m)\u001b[0m\u001b[0;34m\u001b[0m\u001b[0;34m\u001b[0m\u001b[0m\n",
      "\u001b[0;31mException\u001b[0m: hey cut it out"
     ]
    }
   ],
   "source": [
    "while True:\n",
    "    try:\n",
    "        age = int(input('what is your age?'))\n",
    "        10/age\n",
    "        raise Exception('hey cut it out')\n",
    "    except ZeroDivisionError:\n",
    "        print('please enter age greater than 0')\n",
    "        break\n",
    "    else:\n",
    "        print('thank you!')\n",
    "    finally:\n",
    "        print('ok, i am finally done')\n",
    "    print('can you hear me?')"
   ]
  }
 ],
 "metadata": {
  "kernelspec": {
   "display_name": "Python 3 (ipykernel)",
   "language": "python",
   "name": "python3"
  },
  "language_info": {
   "codemirror_mode": {
    "name": "ipython",
    "version": 3
   },
   "file_extension": ".py",
   "mimetype": "text/x-python",
   "name": "python",
   "nbconvert_exporter": "python",
   "pygments_lexer": "ipython3",
   "version": "3.9.7"
  }
 },
 "nbformat": 4,
 "nbformat_minor": 5
}
