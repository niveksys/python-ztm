{
 "cells": [
  {
   "cell_type": "markdown",
   "id": "25b7e8af",
   "metadata": {},
   "source": [
    "# Python Basic II"
   ]
  },
  {
   "cell_type": "markdown",
   "id": "1c30a988",
   "metadata": {},
   "source": [
    "## Conditional Logic"
   ]
  },
  {
   "cell_type": "code",
   "execution_count": 22,
   "id": "0ecef0de",
   "metadata": {},
   "outputs": [
    {
     "name": "stdout",
     "output_type": "stream",
     "text": [
      "you are old enough to drive!\n",
      "okoko\n",
      "you are old enough to drive, and you have a licence!\n"
     ]
    }
   ],
   "source": [
    "is_old = True\n",
    "is_licenced = True\n",
    "\n",
    "if is_old:\n",
    "    print('you are old enough to drive!')\n",
    "elif is_licenced:\n",
    "    print('you can drive now!')\n",
    "else:\n",
    "    print('you are not of age!')\n",
    "    \n",
    "print('okoko')\n",
    "\n",
    "if is_old and is_licenced:\n",
    "    print('you are old enough to drive, and you have a licence!')\n",
    "else:\n",
    "    print('you are not of age!')"
   ]
  },
  {
   "cell_type": "markdown",
   "id": "ada61bf0",
   "metadata": {},
   "source": [
    "## Truthy vs Falsey"
   ]
  },
  {
   "cell_type": "code",
   "execution_count": 27,
   "id": "dc39c35e",
   "metadata": {},
   "outputs": [
    {
     "name": "stdout",
     "output_type": "stream",
     "text": [
      "True\n",
      "True\n",
      "False\n",
      "False\n",
      "False\n",
      "you are old enough to drive, and you have a licence!\n"
     ]
    }
   ],
   "source": [
    "is_old = 'hello'\n",
    "is_licenced = 5\n",
    "\n",
    "# Truthy\n",
    "print(bool('hello'))\n",
    "print(bool(5))\n",
    "# Falsey\n",
    "print(bool(''))\n",
    "print(bool(0))\n",
    "print(bool(None))\n",
    "\n",
    "if is_old and is_licenced:\n",
    "    print('you are old enough to drive, and you have a licence!')\n",
    "else:\n",
    "    print('you are not of age!')"
   ]
  },
  {
   "cell_type": "markdown",
   "id": "1e3d593b",
   "metadata": {},
   "source": [
    "## Ternary Operator"
   ]
  },
  {
   "cell_type": "code",
   "execution_count": 31,
   "id": "3265e1e5",
   "metadata": {},
   "outputs": [
    {
     "name": "stdout",
     "output_type": "stream",
     "text": [
      "not allowed to message\n"
     ]
    }
   ],
   "source": [
    "is_friend = False\n",
    "can_message = \"message allowed\" if is_friend else \"not allowed to message\"\n",
    "print(can_message)"
   ]
  },
  {
   "cell_type": "markdown",
   "id": "7139f750",
   "metadata": {},
   "source": [
    "## Short Circuiting"
   ]
  },
  {
   "cell_type": "code",
   "execution_count": 34,
   "id": "f871179d",
   "metadata": {},
   "outputs": [
    {
     "name": "stdout",
     "output_type": "stream",
     "text": [
      "best friends forever\n"
     ]
    }
   ],
   "source": [
    "is_Friend = True\n",
    "is_User = False\n",
    "if is_Friend or is_User:\n",
    "    print('best friends forever')\n",
    "    \n",
    "is_Friend = False\n",
    "is_User = True\n",
    "if is_Friend and is_User:\n",
    "    print('best friends forever')"
   ]
  },
  {
   "cell_type": "markdown",
   "id": "9c621426",
   "metadata": {},
   "source": [
    "## Logical Operators"
   ]
  },
  {
   "cell_type": "code",
   "execution_count": 48,
   "id": "6fea57bf",
   "metadata": {},
   "outputs": [
    {
     "name": "stdout",
     "output_type": "stream",
     "text": [
      "False\n",
      "True\n",
      "False\n",
      "True\n",
      "False\n",
      "True\n",
      "True\n",
      "False\n",
      "True\n",
      "False\n",
      "False\n",
      "True\n",
      "False\n",
      "True\n",
      "False\n"
     ]
    }
   ],
   "source": [
    "print(4 > 5)\n",
    "print(5 > 4)\n",
    "print(4 == 5)\n",
    "print('hello' == 'hello')\n",
    "print('a' > 'b')\n",
    "print('a' > 'A')\n",
    "print(1 < 2 < 3 < 4)\n",
    "print(1 < 2 > 3 < 4)\n",
    "print(1 >= 0)\n",
    "print(1 <= 0)\n",
    "print(0 != 0)\n",
    "print(0 != 1)\n",
    "print(not(True))\n",
    "print(not(False))\n",
    "print(not(1 == 1))"
   ]
  },
  {
   "cell_type": "markdown",
   "id": "05bf0098",
   "metadata": {},
   "source": [
    "## Exercise: Logical Operators"
   ]
  },
  {
   "cell_type": "code",
   "execution_count": 53,
   "id": "40a064cc",
   "metadata": {},
   "outputs": [
    {
     "name": "stdout",
     "output_type": "stream",
     "text": [
      "at least you're getting there\n"
     ]
    }
   ],
   "source": [
    "is_magician = True\n",
    "is_expert = False\n",
    "\n",
    "if is_magician and is_expert:\n",
    "    print('you are a master magician')\n",
    "\n",
    "elif is_magician and not is_expert:\n",
    "    print('at least you\\'re getting there')\n",
    "\n",
    "elif not is_magician:\n",
    "    print('You need magic powers')"
   ]
  },
  {
   "cell_type": "markdown",
   "id": "157a82c3",
   "metadata": {},
   "source": [
    "## is vs =="
   ]
  },
  {
   "cell_type": "code",
   "execution_count": 66,
   "id": "dde5709b",
   "metadata": {},
   "outputs": [
    {
     "name": "stdout",
     "output_type": "stream",
     "text": [
      "True\n",
      "False\n",
      "False\n",
      "False\n",
      "True\n",
      "True\n",
      "True\n",
      "False\n",
      "False\n",
      "False\n",
      "False\n",
      "False\n",
      "False\n",
      "False\n",
      "True\n",
      "True\n",
      "False\n",
      "True\n"
     ]
    },
    {
     "name": "stderr",
     "output_type": "stream",
     "text": [
      "<>:9: SyntaxWarning: \"is\" with a literal. Did you mean \"==\"?\n",
      "<>:10: SyntaxWarning: \"is\" with a literal. Did you mean \"==\"?\n",
      "<>:11: SyntaxWarning: \"is\" with a literal. Did you mean \"==\"?\n",
      "<>:12: SyntaxWarning: \"is\" with a literal. Did you mean \"==\"?\n",
      "<>:13: SyntaxWarning: \"is\" with a literal. Did you mean \"==\"?\n",
      "<>:18: SyntaxWarning: \"is\" with a literal. Did you mean \"==\"?\n",
      "<>:20: SyntaxWarning: \"is\" with a literal. Did you mean \"==\"?\n",
      "<>:9: SyntaxWarning: \"is\" with a literal. Did you mean \"==\"?\n",
      "<>:10: SyntaxWarning: \"is\" with a literal. Did you mean \"==\"?\n",
      "<>:11: SyntaxWarning: \"is\" with a literal. Did you mean \"==\"?\n",
      "<>:12: SyntaxWarning: \"is\" with a literal. Did you mean \"==\"?\n",
      "<>:13: SyntaxWarning: \"is\" with a literal. Did you mean \"==\"?\n",
      "<>:18: SyntaxWarning: \"is\" with a literal. Did you mean \"==\"?\n",
      "<>:20: SyntaxWarning: \"is\" with a literal. Did you mean \"==\"?\n",
      "/var/folders/fb/l___8l6168d4hjzdbd5vlxg80000gn/T/ipykernel_14373/905869820.py:9: SyntaxWarning: \"is\" with a literal. Did you mean \"==\"?\n",
      "  print(True is 1)\n",
      "/var/folders/fb/l___8l6168d4hjzdbd5vlxg80000gn/T/ipykernel_14373/905869820.py:10: SyntaxWarning: \"is\" with a literal. Did you mean \"==\"?\n",
      "  print('' is 1)\n",
      "/var/folders/fb/l___8l6168d4hjzdbd5vlxg80000gn/T/ipykernel_14373/905869820.py:11: SyntaxWarning: \"is\" with a literal. Did you mean \"==\"?\n",
      "  print('1' is 1)\n",
      "/var/folders/fb/l___8l6168d4hjzdbd5vlxg80000gn/T/ipykernel_14373/905869820.py:12: SyntaxWarning: \"is\" with a literal. Did you mean \"==\"?\n",
      "  print([] is 1)\n",
      "/var/folders/fb/l___8l6168d4hjzdbd5vlxg80000gn/T/ipykernel_14373/905869820.py:13: SyntaxWarning: \"is\" with a literal. Did you mean \"==\"?\n",
      "  print(10 is 10.0)\n",
      "/var/folders/fb/l___8l6168d4hjzdbd5vlxg80000gn/T/ipykernel_14373/905869820.py:18: SyntaxWarning: \"is\" with a literal. Did you mean \"==\"?\n",
      "  print('1' is '1')\n",
      "/var/folders/fb/l___8l6168d4hjzdbd5vlxg80000gn/T/ipykernel_14373/905869820.py:20: SyntaxWarning: \"is\" with a literal. Did you mean \"==\"?\n",
      "  print(10 is 10)\n"
     ]
    }
   ],
   "source": [
    "print(True == 1)\n",
    "print('' == 1)\n",
    "print('1' == 1)\n",
    "print([] == 1)\n",
    "print(10 == 10.0)\n",
    "print([] == [])\n",
    "print([1,2,3] == [1,2,3])\n",
    "\n",
    "print(True is 1)\n",
    "print('' is 1)\n",
    "print('1' is 1)\n",
    "print([] is 1)\n",
    "print(10 is 10.0)\n",
    "print([] is [])\n",
    "print([1,2,3] is [1,2,3])\n",
    "\n",
    "print(True is True)\n",
    "print('1' is '1')\n",
    "print([] is [])\n",
    "print(10 is 10)"
   ]
  },
  {
   "cell_type": "markdown",
   "id": "a26aeede",
   "metadata": {},
   "source": [
    "## For Loops"
   ]
  },
  {
   "cell_type": "code",
   "execution_count": 73,
   "id": "882feeae",
   "metadata": {},
   "outputs": [
    {
     "name": "stdout",
     "output_type": "stream",
     "text": [
      "Z\n",
      "e\n",
      "r\n",
      "o\n",
      " \n",
      "t\n",
      "o\n",
      " \n",
      "M\n",
      "a\n",
      "s\n",
      "t\n",
      "e\n",
      "r\n",
      "y\n",
      "1\n",
      "2\n",
      "3\n",
      "4\n",
      "5\n",
      "1\n",
      "2\n",
      "3\n",
      "4\n",
      "5\n",
      "1\n",
      "2\n",
      "3\n",
      "4\n",
      "5\n",
      "5\n",
      "1 a\n",
      "1 b\n",
      "1 c\n",
      "2 a\n",
      "2 b\n",
      "2 c\n",
      "3 a\n",
      "3 b\n",
      "3 c\n",
      "4 a\n",
      "4 b\n",
      "4 c\n",
      "5 a\n",
      "5 b\n",
      "5 c\n"
     ]
    }
   ],
   "source": [
    "# string\n",
    "for item in 'Zero to Mastery':\n",
    "    print(item)\n",
    "\n",
    "# list\n",
    "for item in [1,2,3,4,5]:\n",
    "    print(item)\n",
    "\n",
    "# set\n",
    "for item in {1,2,3,4,5}:\n",
    "    print(item)\n",
    "\n",
    "# tuple\n",
    "for item in (1,2,3,4,5):\n",
    "    print(item)\n",
    "print(item)\n",
    "    \n",
    "for item in (1,2,3,4,5):\n",
    "    for x in ['a', 'b', 'c']:\n",
    "        print(item, x)"
   ]
  },
  {
   "cell_type": "markdown",
   "id": "6b2152d1",
   "metadata": {},
   "source": [
    "## Iterables"
   ]
  },
  {
   "cell_type": "code",
   "execution_count": 83,
   "id": "c0cc3fe5",
   "metadata": {},
   "outputs": [
    {
     "name": "stdout",
     "output_type": "stream",
     "text": [
      "name\n",
      "age\n",
      "can_swim\n",
      "name\n",
      "age\n",
      "can_swim\n",
      "('name', 'Golem')\n",
      "('age', 5006)\n",
      "('can_swim', False)\n",
      "Golem\n",
      "5006\n",
      "False\n",
      "name Golem\n",
      "age 5006\n",
      "can_swim False\n",
      "name Golem\n",
      "age 5006\n",
      "can_swim False\n"
     ]
    }
   ],
   "source": [
    "# iterable - list, dictionary, tuple, set, string\n",
    "# iterate -> one by one check each item in the collection\n",
    "user = {\n",
    "    'name': 'Golem',\n",
    "    'age': 5006,\n",
    "    'can_swim': False\n",
    "}\n",
    "for item in user:\n",
    "    print(item)\n",
    "for item in user.keys():\n",
    "    print(item)\n",
    "for item in user.items():\n",
    "    print(item)\n",
    "for item in user.values():\n",
    "    print(item)\n",
    "    \n",
    "for item in user.items():\n",
    "    key, value = item\n",
    "    print(key, value)\n",
    "    \n",
    "for k, v in user.items():\n",
    "    print(k, v)"
   ]
  },
  {
   "cell_type": "markdown",
   "id": "cfb147d2",
   "metadata": {},
   "source": [
    "## Exercise: Tricky Counter"
   ]
  },
  {
   "cell_type": "code",
   "execution_count": 87,
   "id": "abf984ec",
   "metadata": {},
   "outputs": [
    {
     "name": "stdout",
     "output_type": "stream",
     "text": [
      "55\n"
     ]
    }
   ],
   "source": [
    "my_list = [1,2,3,4,5,6,7,8,9,10]\n",
    "\n",
    "counter = 0\n",
    "for item in my_list:\n",
    "    counter += item\n",
    "\n",
    "print(counter)"
   ]
  },
  {
   "cell_type": "markdown",
   "id": "b7c7093a",
   "metadata": {},
   "source": [
    "## range()"
   ]
  },
  {
   "cell_type": "code",
   "execution_count": 99,
   "id": "ca945c6f",
   "metadata": {},
   "outputs": [
    {
     "name": "stdout",
     "output_type": "stream",
     "text": [
      "range(0, 100)\n",
      "range(0, 100)\n",
      "0\n",
      "1\n",
      "2\n",
      "3\n",
      "4\n",
      "5\n",
      "6\n",
      "7\n",
      "8\n",
      "9\n",
      "email email list\n",
      "email email list\n",
      "email email list\n",
      "email email list\n",
      "email email list\n",
      "email email list\n",
      "email email list\n",
      "email email list\n",
      "email email list\n",
      "email email list\n",
      "0\n",
      "2\n",
      "4\n",
      "6\n",
      "8\n",
      "10\n",
      "8\n",
      "6\n",
      "4\n",
      "2\n",
      "[0, 1, 2, 3, 4, 5, 6, 7, 8, 9]\n",
      "[0, 1, 2, 3, 4, 5, 6, 7, 8, 9]\n"
     ]
    }
   ],
   "source": [
    "print(range(100))\n",
    "print(range(0,100))\n",
    "\n",
    "for number in range(0,10):\n",
    "    print(number)\n",
    "    \n",
    "for number in range(0,10):\n",
    "    print('email email list')\n",
    "    \n",
    "for _ in range(0,10,2):\n",
    "    print(_)\n",
    "    \n",
    "for _ in range(10,0,-2):\n",
    "    print(_)\n",
    "    \n",
    "for _ in range(2):\n",
    "    print(list(range(10)))"
   ]
  },
  {
   "cell_type": "markdown",
   "id": "c6fb3b0e",
   "metadata": {},
   "source": [
    "## enumerate()"
   ]
  },
  {
   "cell_type": "code",
   "execution_count": 103,
   "id": "f45436b9",
   "metadata": {},
   "outputs": [
    {
     "name": "stdout",
     "output_type": "stream",
     "text": [
      "0 H\n",
      "1 e\n",
      "2 l\n",
      "3 l\n",
      "4 l\n",
      "5 o\n",
      "6 o\n",
      "7 o\n",
      "0 1\n",
      "1 2\n",
      "2 3\n",
      "0 0\n",
      "1 1\n",
      "2 2\n",
      "3 3\n",
      "4 4\n",
      "5 5\n",
      "index of 5 is: 5\n",
      "6 6\n",
      "7 7\n",
      "8 8\n",
      "9 9\n"
     ]
    }
   ],
   "source": [
    "for i,char in enumerate('Helllooo'):\n",
    "    print(i, char)\n",
    "    \n",
    "for i,char in enumerate([1,2,3]):\n",
    "    print(i, char)\n",
    "    \n",
    "for i,char in enumerate(list(range(10))):\n",
    "    print(i, char)\n",
    "    if char == 5:\n",
    "        print(f'index of 5 is: {i}')"
   ]
  },
  {
   "cell_type": "markdown",
   "id": "6435e06d",
   "metadata": {},
   "source": [
    "## While Loops"
   ]
  },
  {
   "cell_type": "code",
   "execution_count": 111,
   "id": "c27fbb30",
   "metadata": {},
   "outputs": [
    {
     "name": "stdout",
     "output_type": "stream",
     "text": [
      "0\n"
     ]
    }
   ],
   "source": [
    "i = 0\n",
    "while i < 5:\n",
    "    print(i)\n",
    "    i += 1\n",
    "#     break\n",
    "else:\n",
    "    print('done with all the work')\n",
    "    print('only execute without break')"
   ]
  },
  {
   "cell_type": "markdown",
   "id": "1444225c",
   "metadata": {},
   "source": [
    "## While Loops 2"
   ]
  },
  {
   "cell_type": "code",
   "execution_count": 125,
   "id": "c564c4ea",
   "metadata": {},
   "outputs": [
    {
     "name": "stdout",
     "output_type": "stream",
     "text": [
      "1\n",
      "2\n",
      "3\n",
      "1\n",
      "2\n",
      "3\n",
      "say something: test\n",
      "say something: bye\n"
     ]
    }
   ],
   "source": [
    "my_list = [1,2,3]\n",
    "for item in my_list:\n",
    "    print(item)\n",
    "    \n",
    "i = 0\n",
    "while i < len(my_list):\n",
    "    print(my_list[i])\n",
    "    i += 1\n",
    "    \n",
    "while True:\n",
    "    response = input('say something: ')\n",
    "    if response == 'bye':\n",
    "        break"
   ]
  },
  {
   "cell_type": "markdown",
   "id": "d5f34ee0",
   "metadata": {},
   "source": [
    "## break, continue, pass"
   ]
  },
  {
   "cell_type": "code",
   "execution_count": 131,
   "id": "15733ce0",
   "metadata": {},
   "outputs": [
    {
     "name": "stdout",
     "output_type": "stream",
     "text": [
      "1\n",
      "2\n",
      "3\n",
      "1\n",
      "2\n",
      "3\n"
     ]
    }
   ],
   "source": [
    "my_list = [1,2,3]\n",
    "for item in my_list:\n",
    "#     continue\n",
    "    print(item)\n",
    "#     break\n",
    "    pass\n",
    "    \n",
    "i = 0\n",
    "while i < len(my_list):\n",
    "#     continue\n",
    "    print(my_list[i])\n",
    "    i += 1\n",
    "#     break\n",
    "    pass\n"
   ]
  },
  {
   "cell_type": "markdown",
   "id": "3b39fadc",
   "metadata": {},
   "source": [
    "## Our First GUI"
   ]
  },
  {
   "cell_type": "code",
   "execution_count": 142,
   "id": "e1a52137",
   "metadata": {},
   "outputs": [
    {
     "name": "stdout",
     "output_type": "stream",
     "text": [
      "   *   \n",
      "  ***  \n",
      " ***** \n",
      "*******\n",
      "   *   \n",
      "   *   \n"
     ]
    }
   ],
   "source": [
    "# Clean\n",
    "# Readability\n",
    "# predictable\n",
    "# DRY\n",
    "picture = [\n",
    "    [0,0,0,1,0,0,0],\n",
    "    [0,0,1,1,1,0,0],\n",
    "    [0,1,1,1,1,1,0],\n",
    "    [1,1,1,1,1,1,1],\n",
    "    [0,0,0,1,0,0,0],\n",
    "    [0,0,0,1,0,0,0],\n",
    "]\n",
    "\n",
    "fill = '*'\n",
    "empty = ' '\n",
    "for row in picture:\n",
    "    for pixel in row:\n",
    "        if pixel:\n",
    "            print(fill, end='')\n",
    "        else:\n",
    "            print(empty, end='')\n",
    "    print('') # need a new line after every row"
   ]
  },
  {
   "cell_type": "markdown",
   "id": "2d3fc918",
   "metadata": {},
   "source": [
    "## Exercise: Find Duplicates"
   ]
  },
  {
   "cell_type": "code",
   "execution_count": 144,
   "id": "3fa1283e",
   "metadata": {},
   "outputs": [
    {
     "name": "stdout",
     "output_type": "stream",
     "text": [
      "['b', 'n']\n"
     ]
    }
   ],
   "source": [
    "some_list = ['a','b','c','b','d','m','n','n']\n",
    "duplicates = []\n",
    "for value in some_list:\n",
    "    if some_list.count(value) > 1:\n",
    "        if value not in duplicates:\n",
    "            duplicates.append(value)\n",
    "        \n",
    "print(duplicates)"
   ]
  },
  {
   "cell_type": "markdown",
   "id": "47ecc2b3",
   "metadata": {},
   "source": [
    "## Functions"
   ]
  },
  {
   "cell_type": "code",
   "execution_count": 149,
   "id": "9457df89",
   "metadata": {},
   "outputs": [
    {
     "name": "stdout",
     "output_type": "stream",
     "text": [
      "hellllooooo\n",
      "<function show_tree at 0x7fc681876670>\n",
      "   *   \n",
      "  ***  \n",
      " ***** \n",
      "*******\n",
      "   *   \n",
      "   *   \n",
      "   *   \n",
      "  ***  \n",
      " ***** \n",
      "*******\n",
      "   *   \n",
      "   *   \n",
      "   *   \n",
      "  ***  \n",
      " ***** \n",
      "*******\n",
      "   *   \n",
      "   *   \n"
     ]
    }
   ],
   "source": [
    "# DRY\n",
    "def say_hello():\n",
    "    print('hellllooooo')\n",
    "    \n",
    "say_hello()\n",
    "\n",
    "\n",
    "picture = [\n",
    "    [0,0,0,1,0,0,0],\n",
    "    [0,0,1,1,1,0,0],\n",
    "    [0,1,1,1,1,1,0],\n",
    "    [1,1,1,1,1,1,1],\n",
    "    [0,0,0,1,0,0,0],\n",
    "    [0,0,0,1,0,0,0],\n",
    "]\n",
    "\n",
    "def show_tree():\n",
    "    fill = '*'\n",
    "    empty = ' '\n",
    "    for row in picture:\n",
    "        for pixel in row:\n",
    "            if pixel:\n",
    "                print(fill, end='')\n",
    "            else:\n",
    "                print(empty, end='')\n",
    "        print('') # need a new line after every row\n",
    "\n",
    "print(show_tree)\n",
    "show_tree()\n",
    "show_tree()\n",
    "show_tree()"
   ]
  },
  {
   "cell_type": "markdown",
   "id": "3a0ef257",
   "metadata": {},
   "source": [
    "## Parameters and Arguments"
   ]
  },
  {
   "cell_type": "code",
   "execution_count": 152,
   "id": "1c550b5c",
   "metadata": {},
   "outputs": [
    {
     "name": "stdout",
     "output_type": "stream",
     "text": [
      "hellllooooo Kairos 😋\n",
      "hellllooooo Dan 😋\n",
      "hellllooooo Emily 😋\n"
     ]
    }
   ],
   "source": [
    "# parameters\n",
    "def say_hello(name, emoji):\n",
    "    print(f'hellllooooo {name} {emoji}')\n",
    "    \n",
    "# arguements\n",
    "say_hello('Kairos', '😋')\n",
    "say_hello('Dan', '😋')\n",
    "say_hello('Emily', '😋')"
   ]
  },
  {
   "cell_type": "markdown",
   "id": "4f04ed93",
   "metadata": {},
   "source": [
    "## Default Parameters and Keyword Arguments"
   ]
  },
  {
   "cell_type": "code",
   "execution_count": 157,
   "id": "d5a2b937",
   "metadata": {},
   "outputs": [
    {
     "name": "stdout",
     "output_type": "stream",
     "text": [
      "hellllooooo Kairos 😋\n",
      "hellllooooo Dan 😋\n",
      "hellllooooo Emily 😋\n",
      "hellllooooo Kairos 😋\n",
      "hellllooooo Darth Vader 😈\n",
      "hellllooooo Timmy 😈\n"
     ]
    }
   ],
   "source": [
    "# default parameters\n",
    "def say_hello(name='Darth Vader', emoji='😈'):\n",
    "    print(f'hellllooooo {name} {emoji}')\n",
    "    \n",
    "# positional arguements\n",
    "say_hello('Kairos', '😋')\n",
    "say_hello('Dan', '😋')\n",
    "say_hello('Emily', '😋')\n",
    "\n",
    "# keyword arguements\n",
    "say_hello(emoji='😋', name='Kairos')\n",
    "\n",
    "say_hello()\n",
    "say_hello('Timmy')"
   ]
  },
  {
   "cell_type": "markdown",
   "id": "f1db25e8",
   "metadata": {},
   "source": [
    "## return"
   ]
  },
  {
   "cell_type": "code",
   "execution_count": 167,
   "id": "6a7a49bc",
   "metadata": {},
   "outputs": [
    {
     "name": "stdout",
     "output_type": "stream",
     "text": [
      "40\n",
      "40\n"
     ]
    }
   ],
   "source": [
    "def sum(num1, num2):\n",
    "    def another_func(n1, n2):\n",
    "        return n1 + n2\n",
    "    return another_func(num1, num2)\n",
    "\n",
    "\n",
    "# Should do one thing really well.\n",
    "# Should return something.\n",
    "\n",
    "total = sum(10,20)\n",
    "print(sum(10,total))\n",
    "\n",
    "print(sum(10,sum(10,20)))"
   ]
  },
  {
   "cell_type": "markdown",
   "id": "80693cd2",
   "metadata": {},
   "source": [
    "## Docstrings"
   ]
  },
  {
   "cell_type": "code",
   "execution_count": 173,
   "id": "ed75b0e5",
   "metadata": {},
   "outputs": [
    {
     "name": "stdout",
     "output_type": "stream",
     "text": [
      "!!!!\n",
      "Help on function test in module __main__:\n",
      "\n",
      "test(a)\n",
      "    Info: this function tests and prints param a\n",
      "\n",
      "\n",
      "    Info: this function tests and prints param a\n",
      "    \n"
     ]
    }
   ],
   "source": [
    "def test(a):\n",
    "    '''\n",
    "    Info: this function tests and prints param a\n",
    "    '''\n",
    "    print(a)\n",
    "    \n",
    "test('!!!!')\n",
    "\n",
    "help(test)\n",
    "\n",
    "print(test.__doc__)"
   ]
  },
  {
   "cell_type": "markdown",
   "id": "19a0e00d",
   "metadata": {},
   "source": [
    "## Clean Code"
   ]
  },
  {
   "cell_type": "code",
   "execution_count": 179,
   "id": "3321008b",
   "metadata": {},
   "outputs": [
    {
     "name": "stdout",
     "output_type": "stream",
     "text": [
      "False\n",
      "False\n"
     ]
    }
   ],
   "source": [
    "def is_even1(num):\n",
    "    if num % 2 == 0:\n",
    "        return True\n",
    "    elif num % 2 != 0:\n",
    "        return False\n",
    "    \n",
    "print(is_even1(51))\n",
    "\n",
    "\n",
    "def is_even2(num):\n",
    "    return num % 2 == 0\n",
    "    \n",
    "print(is_even2(51))"
   ]
  },
  {
   "cell_type": "markdown",
   "id": "fa250335",
   "metadata": {},
   "source": [
    "## **args and ****kwargs"
   ]
  },
  {
   "cell_type": "code",
   "execution_count": 200,
   "id": "4499d262",
   "metadata": {},
   "outputs": [
    {
     "name": "stdout",
     "output_type": "stream",
     "text": [
      "(1, 2, 3, 4, 5)\n",
      "{'num1': 5, 'num2': 10}\n",
      "30\n"
     ]
    }
   ],
   "source": [
    "import builtins\n",
    "\n",
    "def super_func(name, *args, i='hi', **kwargs):\n",
    "    print(args)\n",
    "    print(kwargs)\n",
    "    total = 0\n",
    "    for items in kwargs.values():\n",
    "        total += items\n",
    "    return builtins.sum(args) + total\n",
    "\n",
    "print(super_func('Kairos', 1,2,3,4,5, num1=5, num2=10))\n",
    "\n",
    "# Rule: parames, *args, default parameters, **kwargs"
   ]
  },
  {
   "cell_type": "markdown",
   "id": "527baea5",
   "metadata": {},
   "source": [
    "## Exercise: Functions"
   ]
  },
  {
   "cell_type": "code",
   "execution_count": 205,
   "id": "7ce8b247",
   "metadata": {},
   "outputs": [
    {
     "name": "stdout",
     "output_type": "stream",
     "text": [
      "10\n"
     ]
    }
   ],
   "source": [
    "def highest_even(li):\n",
    "    evens = []\n",
    "    for item in li:\n",
    "        if item %2 == 0:\n",
    "            evens.append(item)\n",
    "    return max(evens)\n",
    "\n",
    "print(highest_even([2,10,2,3,4,8,11]))"
   ]
  },
  {
   "cell_type": "markdown",
   "id": "883c18a1",
   "metadata": {},
   "source": [
    "## Walrus Operator"
   ]
  },
  {
   "cell_type": "code",
   "execution_count": 213,
   "id": "4371c4ce",
   "metadata": {},
   "outputs": [
    {
     "name": "stdout",
     "output_type": "stream",
     "text": [
      "too long 14 elements\n",
      "14\n",
      "13\n",
      "12\n",
      "11\n",
      "10\n",
      "9\n",
      "8\n",
      "7\n",
      "6\n",
      "5\n",
      "4\n",
      "3\n",
      "2\n",
      "h\n"
     ]
    }
   ],
   "source": [
    "a = 'helloooooooooo'\n",
    "\n",
    "if (n := len(a)) > 10:\n",
    "    print(f'too long {n} elements')\n",
    "    \n",
    "while (n := len(a)) > 1:\n",
    "    print(n)\n",
    "    a = a[:-1]\n",
    "    \n",
    "print(a)"
   ]
  },
  {
   "cell_type": "markdown",
   "id": "4567b86a",
   "metadata": {},
   "source": [
    "## Scope"
   ]
  },
  {
   "cell_type": "code",
   "execution_count": 218,
   "id": "e7967344",
   "metadata": {},
   "outputs": [],
   "source": [
    "# Scope - what variables do I have access to?\n",
    "if True:\n",
    "    x = 10\n",
    "\n",
    "def some_func():\n",
    "    total = 100\n",
    "\n",
    "print(x)"
   ]
  },
  {
   "cell_type": "markdown",
   "id": "619a051a",
   "metadata": {},
   "source": [
    "## Scope Rules"
   ]
  },
  {
   "cell_type": "code",
   "execution_count": 222,
   "id": "cdbf1459",
   "metadata": {},
   "outputs": [
    {
     "name": "stdout",
     "output_type": "stream",
     "text": [
      "10\n",
      "1\n"
     ]
    }
   ],
   "source": [
    "a = 1\n",
    "\n",
    "def parent():\n",
    "    a = 10\n",
    "    def confusion():\n",
    "        return a\n",
    "    return confusion()\n",
    "\n",
    "print(parent())\n",
    "print(a)\n",
    "\n",
    "# 1 - start with local\n",
    "# 2 - parent local?\n",
    "# 3 - Global\n",
    "# 4 - build in python function"
   ]
  },
  {
   "cell_type": "markdown",
   "id": "899af5b9",
   "metadata": {},
   "source": [
    "## global Keyword"
   ]
  },
  {
   "cell_type": "code",
   "execution_count": 229,
   "id": "313a0930",
   "metadata": {},
   "outputs": [
    {
     "name": "stdout",
     "output_type": "stream",
     "text": [
      "300\n",
      "3\n",
      "3\n"
     ]
    }
   ],
   "source": [
    "a = 10\n",
    "\n",
    "def confusion(b):\n",
    "    print(b)\n",
    "    a = 90\n",
    "\n",
    "confusion(300)\n",
    "\n",
    "\n",
    "total = 0\n",
    "def count():\n",
    "    global total\n",
    "    total += 1\n",
    "    return total\n",
    "\n",
    "count()\n",
    "count()\n",
    "print(count())\n",
    "\n",
    "total = 0\n",
    "def count(total):\n",
    "    total += 1\n",
    "    return total\n",
    "\n",
    "print(count(count(count(total))))"
   ]
  },
  {
   "cell_type": "markdown",
   "id": "22b81269",
   "metadata": {},
   "source": [
    "## nonlocal Keyword"
   ]
  },
  {
   "cell_type": "code",
   "execution_count": 234,
   "id": "bd6566d0",
   "metadata": {},
   "outputs": [
    {
     "name": "stdout",
     "output_type": "stream",
     "text": [
      "inner: nonlocal\n",
      "outer: nonlocal\n"
     ]
    }
   ],
   "source": [
    "def outer():\n",
    "    x = 'local'\n",
    "    def inner():\n",
    "        nonlocal x\n",
    "        x = 'nonlocal'\n",
    "        print('inner:', x)\n",
    "        \n",
    "    inner()\n",
    "    print('outer:', x)\n",
    "    \n",
    "outer()"
   ]
  },
  {
   "cell_type": "markdown",
   "id": "e18f4972",
   "metadata": {},
   "source": [
    " ## Exercise: Imposter Syndrome"
   ]
  }
 ],
 "metadata": {
  "kernelspec": {
   "display_name": "Python 3 (ipykernel)",
   "language": "python",
   "name": "python3"
  },
  "language_info": {
   "codemirror_mode": {
    "name": "ipython",
    "version": 3
   },
   "file_extension": ".py",
   "mimetype": "text/x-python",
   "name": "python",
   "nbconvert_exporter": "python",
   "pygments_lexer": "ipython3",
   "version": "3.9.7"
  }
 },
 "nbformat": 4,
 "nbformat_minor": 5
}
