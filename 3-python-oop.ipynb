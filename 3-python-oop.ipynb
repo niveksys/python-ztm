{
 "cells": [
  {
   "cell_type": "markdown",
   "id": "7522a920",
   "metadata": {},
   "source": [
    "# Advanced Python: Object Oriented Programming\n",
    "## Four Pillars of OOP\n",
    "* Encapsulation\n",
    "* Abstraction\n",
    "* Inheritance\n",
    "* Polymorphism"
   ]
  },
  {
   "cell_type": "markdown",
   "id": "fdd9ecd0",
   "metadata": {},
   "source": [
    "## What is OOP?"
   ]
  },
  {
   "cell_type": "code",
   "execution_count": 1,
   "id": "7f434f5d",
   "metadata": {},
   "outputs": [
    {
     "name": "stdout",
     "output_type": "stream",
     "text": [
      "<class 'NoneType'>\n",
      "<class 'bool'>\n",
      "<class 'int'>\n",
      "<class 'float'>\n",
      "<class 'str'>\n",
      "<class 'list'>\n",
      "<class 'tuple'>\n",
      "<class 'dict'>\n",
      "<class '__main__.BigObject'>\n"
     ]
    }
   ],
   "source": [
    "# OOP\n",
    "\n",
    "class BigObject: # Class\n",
    "    # code\n",
    "    pass\n",
    "\n",
    "obj1 = BigObject() # instantiate\n",
    "obj2 = BigObject() # instantiate\n",
    "obj3 = BigObject() # instantiate\n",
    "print(type(None))\n",
    "print(type(True))\n",
    "print(type(5))\n",
    "print(type(5.5))\n",
    "print(type('hi'))\n",
    "print(type([]))\n",
    "print(type(()))\n",
    "print(type({}))\n",
    "print(type(obj1))"
   ]
  },
  {
   "cell_type": "markdown",
   "id": "29a162c6",
   "metadata": {},
   "source": [
    "## Creating Our Own Objects"
   ]
  },
  {
   "cell_type": "code",
   "execution_count": 20,
   "id": "25315b41",
   "metadata": {},
   "outputs": [
    {
     "name": "stdout",
     "output_type": "stream",
     "text": [
      "<class '__main__.PlayerCharacter'>\n",
      "Cindy 44\n",
      "Tom 21\n",
      "run\n",
      "done\n",
      "<__main__.PlayerCharacter object at 0x7fb57a622910>\n",
      "<__main__.PlayerCharacter object at 0x7fb579406ee0>\n",
      "50\n",
      "Help on class PlayerCharacter in module __main__:\n",
      "\n",
      "class PlayerCharacter(builtins.object)\n",
      " |  PlayerCharacter(name='anonymous', age=0)\n",
      " |  \n",
      " |  Methods defined here:\n",
      " |  \n",
      " |  __init__(self, name='anonymous', age=0)\n",
      " |      Initialize self.  See help(type(self)) for accurate signature.\n",
      " |  \n",
      " |  run(self)\n",
      " |  \n",
      " |  shout(self)\n",
      " |  \n",
      " |  ----------------------------------------------------------------------\n",
      " |  Data descriptors defined here:\n",
      " |  \n",
      " |  __dict__\n",
      " |      dictionary for instance variables (if defined)\n",
      " |  \n",
      " |  __weakref__\n",
      " |      list of weak references to the object (if defined)\n",
      " |  \n",
      " |  ----------------------------------------------------------------------\n",
      " |  Data and other attributes defined here:\n",
      " |  \n",
      " |  membership = True\n",
      "\n",
      "True\n",
      "my name is Cindy\n",
      "None\n",
      "my name is Tom\n",
      "None\n"
     ]
    }
   ],
   "source": [
    "# OOP\n",
    "class PlayerCharacter:\n",
    "    # Class Object Attribute\n",
    "    membership = True\n",
    "    \n",
    "    def __init__(self, name='anonymous', age=0):\n",
    "        if self.membership and age > 18:\n",
    "            self.name = name\n",
    "            self.age = age\n",
    "        \n",
    "    def run(self):\n",
    "        print('run')\n",
    "        return 'done'\n",
    "\n",
    "    def shout(self):\n",
    "        print(f'my name is {self.name}')\n",
    "    \n",
    "print(PlayerCharacter)\n",
    "    \n",
    "player1 = PlayerCharacter('Cindy', 44)\n",
    "player2 = PlayerCharacter('Tom', 21)\n",
    "\n",
    "print(player1.name, player1.age)\n",
    "print(player2.name, player2.age)\n",
    "\n",
    "print(player1.run())\n",
    "\n",
    "print(player1)\n",
    "print(player2)\n",
    "\n",
    "player2.attack = 50\n",
    "print(player2.attack)\n",
    "\n",
    "help(PlayerCharacter)\n",
    "\n",
    "print(PlayerCharacter.membership)\n",
    "              \n",
    "print(player1.shout())\n",
    "print(player2.shout())"
   ]
  },
  {
   "cell_type": "markdown",
   "id": "d78ce19c",
   "metadata": {},
   "source": [
    "## @classmethod and @staticmethod"
   ]
  },
  {
   "cell_type": "code",
   "execution_count": 29,
   "id": "f3075b6b",
   "metadata": {},
   "outputs": [
    {
     "name": "stdout",
     "output_type": "stream",
     "text": [
      "my name is Tom\n",
      "my name is Tom\n",
      "<__main__.PlayerCharacter object at 0x7fb57a657f10>\n",
      "5\n",
      "10\n"
     ]
    }
   ],
   "source": [
    "# OOP\n",
    "class PlayerCharacter:\n",
    "    # Class Object Attribute\n",
    "    membership = True\n",
    "    \n",
    "    def __init__(self, name, age):\n",
    "        self.name = name\n",
    "        self.age = age\n",
    "\n",
    "    def shout(self):\n",
    "        print(f'my name is {self.name}')\n",
    "        return self\n",
    "        \n",
    "    @classmethod\n",
    "    def adding_things(cls, num1, num2):\n",
    "#         return num1 + num2\n",
    "        return cls('Teddy', num1 + num2)\n",
    "\n",
    "    @staticmethod\n",
    "    def adding_things2(num1, num2):\n",
    "        return num1 + num2\n",
    "\n",
    "player1 = PlayerCharacter('Tom', 20)\n",
    "\n",
    "print(player1.shout().shout())\n",
    "\n",
    "# print(player1.adding_things(2,3))\n",
    "# print(PlayerCharacter.adding_things(2,3))\n",
    "\n",
    "player3 = PlayerCharacter.adding_things(2,3);\n",
    "print(player3.age)\n",
    "\n",
    "print(PlayerCharacter.adding_things2(4,6))"
   ]
  },
  {
   "cell_type": "markdown",
   "id": "baade6ae",
   "metadata": {},
   "source": [
    "## Reviewing What We Know So Far"
   ]
  },
  {
   "cell_type": "code",
   "execution_count": 27,
   "id": "f04c8a23",
   "metadata": {},
   "outputs": [],
   "source": [
    "# OOP\n",
    "class NameOfClass:\n",
    "    class_attribute = 'value'\n",
    "    \n",
    "    def __init__(self, param1, param2):\n",
    "        self.param1 = param1\n",
    "        self.param2 = param2\n",
    "\n",
    "    def method(self):\n",
    "        # code\n",
    "        pass\n",
    "        \n",
    "    @classmethod\n",
    "    def cls_method(cls, param1, param2):\n",
    "        # code\n",
    "        pass\n",
    "\n",
    "    @staticmethod\n",
    "    def stc_method(param1, param2):\n",
    "        # code\n",
    "        pass"
   ]
  },
  {
   "cell_type": "markdown",
   "id": "06e25280",
   "metadata": {},
   "source": [
    "## Private vs Public Variables"
   ]
  },
  {
   "cell_type": "code",
   "execution_count": 34,
   "id": "c6d0ddff",
   "metadata": {},
   "outputs": [
    {
     "name": "stdout",
     "output_type": "stream",
     "text": [
      "my name is Kairos, and I am 100 years old\n",
      "None\n"
     ]
    }
   ],
   "source": [
    "# OOP\n",
    "class PlayerCharacter:\n",
    "    \n",
    "    def __init__(self, name, age):\n",
    "        self._name = name\n",
    "        self._age = age\n",
    "\n",
    "    def run(self):\n",
    "        print('run')\n",
    "\n",
    "    def speak(self):\n",
    "        print(f'my name is {self._name}, and I am {self._age} years old')\n",
    "        \n",
    "player1 = PlayerCharacter('Kairos', 100)\n",
    "player1.name = '!!!'\n",
    "# player1.speak = 'BOOOOO'\n",
    "\n",
    "print(player1.speak())"
   ]
  },
  {
   "cell_type": "markdown",
   "id": "908d90e2",
   "metadata": {},
   "source": [
    "## Inheritance"
   ]
  },
  {
   "cell_type": "code",
   "execution_count": 41,
   "id": "4b1747c4",
   "metadata": {},
   "outputs": [
    {
     "name": "stdout",
     "output_type": "stream",
     "text": [
      "logged in\n",
      "None\n",
      "logged in\n",
      "None\n",
      "attacking with power of 50\n",
      "True\n",
      "True\n",
      "True\n"
     ]
    }
   ],
   "source": [
    "class User():\n",
    "    def sign_in(self):\n",
    "        print('logged in')\n",
    "        \n",
    "class Wizard(User):\n",
    "    def __init__(self, name, power):\n",
    "        self.name = name\n",
    "        self.power = power\n",
    "        \n",
    "    def attack(self):\n",
    "        print(f'attacking with power of {self.power}')\n",
    "\n",
    "class Archer(User):\n",
    "    def __init__(self, name, num_arrows):\n",
    "        self.name = name\n",
    "        self.num_arrows = num_arrows\n",
    "        \n",
    "    def attack(self):\n",
    "        print(f'attacking with arrows: arrows left-{self.num_arrows}')\n",
    "\n",
    "wizard1 = Wizard('Merlin', 50)\n",
    "archer1 = Archer('Robin', 100)\n",
    "print(wizard1.sign_in())\n",
    "print(archer1.sign_in())\n",
    "\n",
    "wizard1.attack()\n",
    "\n",
    "print(isinstance(wizard1, Wizard))\n",
    "print(isinstance(wizard1, User))\n",
    "print(isinstance(wizard1, object))"
   ]
  },
  {
   "cell_type": "markdown",
   "id": "4aeb445c",
   "metadata": {},
   "source": [
    "## Polymorphism"
   ]
  },
  {
   "cell_type": "code",
   "execution_count": 50,
   "id": "a18350b8",
   "metadata": {},
   "outputs": [
    {
     "name": "stdout",
     "output_type": "stream",
     "text": [
      "do nothing\n",
      "attacking with power of 60\n",
      "attacking with arrows: arrows left-130\n",
      "do nothing\n",
      "attacking with power of 60\n",
      "attacking with arrows: arrows left-130\n",
      "merlin@gmail.com\n",
      "robin@gmail.com\n",
      "['__class__', '__delattr__', '__dict__', '__dir__', '__doc__', '__eq__', '__format__', '__ge__', '__getattribute__', '__gt__', '__hash__', '__init__', '__init_subclass__', '__le__', '__lt__', '__module__', '__ne__', '__new__', '__reduce__', '__reduce_ex__', '__repr__', '__setattr__', '__sizeof__', '__str__', '__subclasshook__', '__weakref__', 'attack', 'email', 'name', 'power', 'sign_in']\n"
     ]
    }
   ],
   "source": [
    "class User():\n",
    "    def __init__(self, email):\n",
    "        self.email = email\n",
    "    \n",
    "    def sign_in(self):\n",
    "        print('logged in')\n",
    "        \n",
    "    def attack(self):\n",
    "        print('do nothing')\n",
    "        \n",
    "class Wizard(User):\n",
    "    def __init__(self, name, power, email):\n",
    "        User.__init__(self, email)\n",
    "        self.name = name\n",
    "        self.power = power\n",
    "        \n",
    "    def attack(self):\n",
    "        User.attack(self)\n",
    "        print(f'attacking with power of {self.power}')\n",
    "\n",
    "class Archer(User):\n",
    "    def __init__(self, name, num_arrows, email):\n",
    "        super().__init__(email)\n",
    "        self.name = name\n",
    "        self.num_arrows = num_arrows\n",
    "        \n",
    "    def attack(self):\n",
    "        print(f'attacking with arrows: arrows left-{self.num_arrows}')\n",
    "        \n",
    "wizard1 = Wizard('Merlin', 60, 'merlin@gmail.com')\n",
    "archer1 = Archer('Robin', 130, 'robin@gmail.com')\n",
    "\n",
    "# Polymorphism\n",
    "def player_attack(char):\n",
    "    char.attack()\n",
    "\n",
    "player_attack(wizard1)\n",
    "player_attack(archer1)\n",
    "\n",
    "# Polymorphism\n",
    "for char in [wizard1, archer1]:\n",
    "    char.attack()\n",
    "   \n",
    "# super()\n",
    "print(wizard1.email)\n",
    "print(archer1.email)\n",
    "\n",
    "# introspection\n",
    "print(dir(wizard1))"
   ]
  },
  {
   "cell_type": "markdown",
   "id": "a39f7428",
   "metadata": {},
   "source": [
    "## Dunder Methods"
   ]
  },
  {
   "cell_type": "code",
   "execution_count": 59,
   "id": "d4f95b57",
   "metadata": {},
   "outputs": [
    {
     "name": "stdout",
     "output_type": "stream",
     "text": [
      "red\n",
      "red\n",
      "red\n",
      "5\n",
      "yess??\n",
      "YoYo\n",
      "deleted!\n"
     ]
    }
   ],
   "source": [
    "class Toy():\n",
    "    def __init__(self, color, age):\n",
    "        self.color = color\n",
    "        self.age = age\n",
    "        self.my_dict = {\n",
    "            'name': 'YoYo',\n",
    "            'has_pets': False\n",
    "        }\n",
    "        \n",
    "    def __str__(self):\n",
    "        return f'{self.color}'\n",
    "    \n",
    "    def __len__(self):\n",
    "        return 5\n",
    "   \n",
    "    def __del__(self):\n",
    "        print('deleted!')\n",
    "\n",
    "    def __call__(self):\n",
    "        return('yess??')\n",
    "        \n",
    "    def __getitem__(self, i):\n",
    "        return self.my_dict[i]\n",
    "        \n",
    "action_figure = Toy('red', 0)\n",
    "print(action_figure.__str__())\n",
    "print(str(action_figure))\n",
    "print(action_figure)\n",
    "print(len(action_figure))\n",
    "print(action_figure())\n",
    "print(action_figure['name'])\n",
    "del action_figure"
   ]
  },
  {
   "cell_type": "markdown",
   "id": "294a1efc",
   "metadata": {},
   "source": [
    "## Exercise: Extending List"
   ]
  },
  {
   "cell_type": "code",
   "execution_count": 66,
   "id": "3ae782a3",
   "metadata": {},
   "outputs": [
    {
     "name": "stdout",
     "output_type": "stream",
     "text": [
      "1000\n",
      "5\n",
      "True\n",
      "True\n"
     ]
    }
   ],
   "source": [
    "class SuperList(list):\n",
    "    def __len__(self):\n",
    "        return 1000\n",
    "        \n",
    "super_list1 = SuperList()\n",
    "\n",
    "print(len(super_list1))\n",
    "super_list1.append(5)\n",
    "print(super_list1[0])\n",
    "print(issubclass(SuperList, list))\n",
    "print(issubclass(list, object))"
   ]
  },
  {
   "cell_type": "markdown",
   "id": "c67e1bf4",
   "metadata": {},
   "source": [
    "## Multiple Inheritance"
   ]
  },
  {
   "cell_type": "code",
   "execution_count": 74,
   "id": "00d83a78",
   "metadata": {},
   "outputs": [
    {
     "name": "stdout",
     "output_type": "stream",
     "text": [
      "logged in\n",
      "None\n",
      "100 remaining\n",
      "None\n",
      "attacking with power of 100\n",
      "None\n"
     ]
    }
   ],
   "source": [
    "class User():\n",
    "    def sign_in(self):\n",
    "        print('logged in')\n",
    "        \n",
    "class Wizard(User):\n",
    "    def __init__(self, name, power):\n",
    "        self.name = name\n",
    "        self.power = power\n",
    "        \n",
    "    def attack(self):\n",
    "        print(f'attacking with power of {self.power}')\n",
    "\n",
    "class Archer(User):\n",
    "    def __init__(self, name, arrows):\n",
    "        self.name = name\n",
    "        self.arrows = arrows\n",
    "        \n",
    "    def check_arrows(self):\n",
    "        print(f'{self.arrows} remaining')\n",
    "        \n",
    "    def run(self):\n",
    "        print('ran really fast')\n",
    "        \n",
    "class HybirdBorg(Wizard, Archer):\n",
    "    def __init__(self, name, power, arrows):\n",
    "        Archer.__init__(self, name, arrows)\n",
    "        Wizard.__init__(self, power, arrows)\n",
    "\n",
    "hb1 = HybirdBorg('borgie', 50, 100)\n",
    "print(hb1.sign_in())\n",
    "print(hb1.check_arrows())\n",
    "print(hb1.attack())"
   ]
  },
  {
   "cell_type": "markdown",
   "id": "7b91db42",
   "metadata": {},
   "source": [
    "## MRO - Method Resolution Order"
   ]
  },
  {
   "cell_type": "code",
   "execution_count": 81,
   "id": "9387e674",
   "metadata": {},
   "outputs": [
    {
     "name": "stdout",
     "output_type": "stream",
     "text": [
      "1\n",
      "[<class '__main__.D'>, <class '__main__.B'>, <class '__main__.C'>, <class '__main__.A'>, <class 'object'>]\n",
      "<slot wrapper '__str__' of 'object' objects>\n"
     ]
    }
   ],
   "source": [
    "# MRO - Method Resolution Order\n",
    "class A:\n",
    "    num = 10\n",
    "    \n",
    "class B(A):\n",
    "    pass\n",
    "\n",
    "class C(A):\n",
    "    num = 1\n",
    "    \n",
    "class D(B,C):\n",
    "    pass\n",
    "\n",
    "print(D.num)\n",
    "print(D.mro())\n",
    "print(D.__str__)"
   ]
  },
  {
   "cell_type": "code",
   "execution_count": 83,
   "id": "1920dbee",
   "metadata": {},
   "outputs": [
    {
     "name": "stdout",
     "output_type": "stream",
     "text": [
      "[<class '__main__.M'>, <class '__main__.B'>, <class '__main__.A'>, <class '__main__.X'>, <class '__main__.Y'>, <class '__main__.Z'>, <class 'object'>]\n",
      "(<class '__main__.M'>, <class '__main__.B'>, <class '__main__.A'>, <class '__main__.X'>, <class '__main__.Y'>, <class '__main__.Z'>, <class 'object'>)\n"
     ]
    }
   ],
   "source": [
    "# MRO - Method Resolution Order\n",
    "class X: pass\n",
    "class Y: pass\n",
    "class Z: pass\n",
    "class A(X,Y): pass\n",
    "class B(Y,Z): pass\n",
    "class M(B,A,Z): pass\n",
    "\n",
    "# depth first search\n",
    "print(M.mro())\n",
    "print(M.__mro__)"
   ]
  }
 ],
 "metadata": {
  "kernelspec": {
   "display_name": "Python 3 (ipykernel)",
   "language": "python",
   "name": "python3"
  },
  "language_info": {
   "codemirror_mode": {
    "name": "ipython",
    "version": 3
   },
   "file_extension": ".py",
   "mimetype": "text/x-python",
   "name": "python",
   "nbconvert_exporter": "python",
   "pygments_lexer": "ipython3",
   "version": "3.9.7"
  }
 },
 "nbformat": 4,
 "nbformat_minor": 5
}
