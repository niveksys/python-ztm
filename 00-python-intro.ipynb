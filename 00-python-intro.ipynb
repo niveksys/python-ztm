{
 "cells": [
  {
   "cell_type": "code",
   "execution_count": 1,
   "id": "fe1a3e31",
   "metadata": {
    "scrolled": true
   },
   "outputs": [
    {
     "name": "stdout",
     "output_type": "stream",
     "text": [
      "Kairos Tseng\n"
     ]
    }
   ],
   "source": [
    "print('Kairos Tseng')"
   ]
  },
  {
   "cell_type": "code",
   "execution_count": 4,
   "id": "16110ab2",
   "metadata": {},
   "outputs": [
    {
     "name": "stdout",
     "output_type": "stream",
     "text": [
      "What is your name?Kairos Tseng\n",
      "heeelllooooo Kairos Tseng\n"
     ]
    }
   ],
   "source": [
    "name = input('What is your name?')\n",
    "print('heeelllooooo ' + name)"
   ]
  }
 ],
 "metadata": {
  "kernelspec": {
   "display_name": "Python 3 (ipykernel)",
   "language": "python",
   "name": "python3"
  },
  "language_info": {
   "codemirror_mode": {
    "name": "ipython",
    "version": 3
   },
   "file_extension": ".py",
   "mimetype": "text/x-python",
   "name": "python",
   "nbconvert_exporter": "python",
   "pygments_lexer": "ipython3",
   "version": "3.9.7"
  }
 },
 "nbformat": 4,
 "nbformat_minor": 5
}
