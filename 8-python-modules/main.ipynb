{
 "cells": [
  {
   "cell_type": "markdown",
   "id": "0c95d425",
   "metadata": {},
   "source": [
    "# Modules in Python"
   ]
  },
  {
   "cell_type": "markdown",
   "id": "d5276ed8",
   "metadata": {},
   "source": [
    "## Modules in Python"
   ]
  },
  {
   "cell_type": "code",
   "execution_count": 1,
   "id": "2a033bd0",
   "metadata": {},
   "outputs": [
    {
     "name": "stdout",
     "output_type": "stream",
     "text": [
      "<module 'utility' from '/Users/kevin/Workspaces/python-ztm/utility.py'>\n",
      "6\n",
      "0.6666666666666666\n"
     ]
    }
   ],
   "source": [
    "import utility\n",
    "\n",
    "print(utility)\n",
    "\n",
    "print(utility.multiply(2,3))\n",
    "\n",
    "print(utility.divide(2,3))"
   ]
  },
  {
   "cell_type": "markdown",
   "id": "59209296",
   "metadata": {},
   "source": [
    "## Packages in Python"
   ]
  },
  {
   "cell_type": "code",
   "execution_count": 7,
   "id": "a86d8a66",
   "metadata": {},
   "outputs": [
    {
     "name": "stdout",
     "output_type": "stream",
     "text": [
      "<module 'shopping.shopping_cart' from '/Users/kevin/Workspaces/python-ztm/8-python-modules/shopping/shopping_cart.py'>\n",
      "['apple']\n"
     ]
    }
   ],
   "source": [
    "import shopping.shopping_cart\n",
    "\n",
    "print(shopping.shopping_cart)\n",
    "print(shopping.shopping_cart.buy('apple'))"
   ]
  },
  {
   "cell_type": "markdown",
   "id": "0ec8961c",
   "metadata": {},
   "source": [
    "## Different Ways To Import"
   ]
  },
  {
   "cell_type": "code",
   "execution_count": 1,
   "id": "b36444d6",
   "metadata": {},
   "outputs": [
    {
     "name": "stdout",
     "output_type": "stream",
     "text": [
      "shopping.more_shopping.shopping_cart\n",
      "utility\n",
      "['apple']\n",
      "10\n",
      "2.5\n"
     ]
    }
   ],
   "source": [
    "from shopping.more_shopping.shopping_cart import buy\n",
    "from utility import multiply, divide\n",
    "\n",
    "print(buy('apple'))\n",
    "print(multiply(5,2))\n",
    "print(divide(5,2))"
   ]
  },
  {
   "cell_type": "code",
   "execution_count": 13,
   "id": "ef27ab73",
   "metadata": {},
   "outputs": [
    {
     "name": "stdout",
     "output_type": "stream",
     "text": [
      "['apple']\n"
     ]
    }
   ],
   "source": [
    "from shopping.more_shopping import shopping_cart\n",
    "\n",
    "print(shopping_cart.buy('apple'))"
   ]
  },
  {
   "cell_type": "markdown",
   "id": "42419e48",
   "metadata": {},
   "source": [
    "## __name__"
   ]
  },
  {
   "cell_type": "code",
   "execution_count": 5,
   "id": "e9cee659",
   "metadata": {},
   "outputs": [
    {
     "name": "stdout",
     "output_type": "stream",
     "text": [
      "__main__\n",
      "['apple']\n",
      "10\n",
      "2.5\n",
      "<class '__main__.Student'>\n"
     ]
    }
   ],
   "source": [
    "from shopping.more_shopping.shopping_cart import buy\n",
    "from utility import multiply, divide\n",
    "\n",
    "print(__name__)\n",
    "\n",
    "if __name__ == '__main__':\n",
    "    print(buy('apple'))\n",
    "    print(multiply(5,2))\n",
    "    print(divide(5,2))\n",
    "    \n",
    "class Student():\n",
    "    pass\n",
    "\n",
    "st1 = Student()\n",
    "print(type(st1))"
   ]
  },
  {
   "cell_type": "markdown",
   "id": "aca7d3ef",
   "metadata": {},
   "source": [
    "## Python Built-in Modules"
   ]
  },
  {
   "cell_type": "code",
   "execution_count": 16,
   "id": "97b9acde",
   "metadata": {},
   "outputs": [
    {
     "name": "stdout",
     "output_type": "stream",
     "text": [
      "<module 'random' from '/Users/kevin/opt/anaconda3/lib/python3.9/random.py'>\n",
      "0.9945834038645766\n",
      "4\n",
      "3\n"
     ]
    }
   ],
   "source": [
    "import random\n",
    "\n",
    "print(random)\n",
    "# help(random)\n",
    "# print(dir(random))\n",
    "\n",
    "print(random.random())\n",
    "print(random.randint(1, 10))\n",
    "print(random.choice([1,2,3,4,5]))"
   ]
  },
  {
   "cell_type": "code",
   "execution_count": 17,
   "id": "7ae15169",
   "metadata": {},
   "outputs": [
    {
     "name": "stdout",
     "output_type": "stream",
     "text": [
      "[4, 2, 5, 1, 3]\n"
     ]
    }
   ],
   "source": [
    "from random import shuffle\n",
    "\n",
    "my_list = [1,2,3,4,5]\n",
    "random.shuffle(my_list)\n",
    "print(my_list)"
   ]
  },
  {
   "cell_type": "markdown",
   "id": "c0ec0f54",
   "metadata": {},
   "source": [
    "## Python Built-in Modules 2"
   ]
  },
  {
   "cell_type": "code",
   "execution_count": 18,
   "id": "4838d7d4",
   "metadata": {},
   "outputs": [
    {
     "name": "stdout",
     "output_type": "stream",
     "text": [
      "<module 'sys' (built-in)>\n"
     ]
    }
   ],
   "source": [
    "import sys\n",
    "\n",
    "print(sys)\n",
    "first = sys.argv[1]\n",
    "second = sys.argv[2]"
   ]
  },
  {
   "cell_type": "markdown",
   "id": "78842c61",
   "metadata": {},
   "source": [
    "## pip install"
   ]
  },
  {
   "cell_type": "code",
   "execution_count": 24,
   "id": "0ee26a46",
   "metadata": {},
   "outputs": [
    {
     "name": "stdout",
     "output_type": "stream",
     "text": [
      "Waiter: Would you like coffee or tea? Programmer: Yes.\n"
     ]
    }
   ],
   "source": [
    "# pip -V\n",
    "# pip3 -V\n",
    "# pip install pyjokes\n",
    "# pip list\n",
    "# pip uninstall pyjokes\n",
    "# pip install pyjokes==0.6.0\n",
    "\n",
    "import pyjokes\n",
    "\n",
    "joke = pyjokes.get_joke('en', 'neutral')\n",
    "print(joke)"
   ]
  },
  {
   "cell_type": "markdown",
   "id": "50067272",
   "metadata": {},
   "source": [
    "## Useful Modules"
   ]
  },
  {
   "cell_type": "code",
   "execution_count": 45,
   "id": "942624d0",
   "metadata": {},
   "outputs": [
    {
     "name": "stdout",
     "output_type": "stream",
     "text": [
      "Counter({7: 2, 1: 1, 2: 1, 3: 1, 4: 1, 5: 1, 6: 1})\n",
      "Counter({'h': 5, ' ': 5, 'b': 4, 'a': 4, 'l': 3, 't': 3, 'n': 3, 'i': 2, 'o': 2, 'k': 1, 'g': 1, 'u': 1, 'p': 1, 'y': 1})\n",
      "1\n",
      "2\n",
      "does not exist\n",
      "True\n",
      "False\n"
     ]
    }
   ],
   "source": [
    "from collections import Counter, defaultdict, OrderedDict\n",
    "\n",
    "li = [1,2,3,4,5,6,7,7]\n",
    "print(Counter(li))\n",
    "\n",
    "sentence = 'blah blah blah thinking about python'\n",
    "print(Counter(sentence))\n",
    "\n",
    "dictionary = defaultdict(lambda: 'does not exist', {'a': 1, 'b': 2})\n",
    "print(dictionary['a'])\n",
    "print(dictionary['b'])\n",
    "print(dictionary['c'])\n",
    "\n",
    "d = {}\n",
    "d['a'] = 1\n",
    "d['b'] = 2\n",
    "\n",
    "d2 = {}\n",
    "d2['b'] = 2\n",
    "d2['a'] = 1\n",
    "\n",
    "print (d == d2)\n",
    "\n",
    "d = OrderedDict()\n",
    "d['a'] = 1\n",
    "d['b'] = 2\n",
    "\n",
    "d2 = OrderedDict()\n",
    "d2['b'] = 2\n",
    "d2['a'] = 1\n",
    "\n",
    "print (d == d2)"
   ]
  },
  {
   "cell_type": "markdown",
   "id": "6392798b",
   "metadata": {},
   "source": [
    "## Useful Modules 2"
   ]
  },
  {
   "cell_type": "code",
   "execution_count": 50,
   "id": "15a5fe92",
   "metadata": {},
   "outputs": [
    {
     "name": "stdout",
     "output_type": "stream",
     "text": [
      "00:00:00\n",
      "05:45:02\n",
      "2022-02-02\n"
     ]
    }
   ],
   "source": [
    "import datetime\n",
    "\n",
    "print(datetime.time())\n",
    "print(datetime.time(5,45,2))\n",
    "\n",
    "print(datetime.date.today())"
   ]
  },
  {
   "cell_type": "code",
   "execution_count": 53,
   "id": "20285f48",
   "metadata": {},
   "outputs": [
    {
     "name": "stdout",
     "output_type": "stream",
     "text": [
      "array('i', [1, 2, 3])\n",
      "1\n"
     ]
    }
   ],
   "source": [
    "from array import array\n",
    "\n",
    "arr = array('i', [1,2,3])\n",
    "print(arr)\n",
    "print(arr[0])"
   ]
  }
 ],
 "metadata": {
  "kernelspec": {
   "display_name": "Python 3 (ipykernel)",
   "language": "python",
   "name": "python3"
  },
  "language_info": {
   "codemirror_mode": {
    "name": "ipython",
    "version": 3
   },
   "file_extension": ".py",
   "mimetype": "text/x-python",
   "name": "python",
   "nbconvert_exporter": "python",
   "pygments_lexer": "ipython3",
   "version": "3.9.7"
  }
 },
 "nbformat": 4,
 "nbformat_minor": 5
}
