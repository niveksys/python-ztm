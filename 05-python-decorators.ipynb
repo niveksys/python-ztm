{
 "cells": [
  {
   "cell_type": "markdown",
   "id": "626c4dd5",
   "metadata": {},
   "source": [
    "# Advanced Python: Decorators"
   ]
  },
  {
   "cell_type": "markdown",
   "id": "b7dac7a7",
   "metadata": {},
   "source": [
    "## Decorators"
   ]
  },
  {
   "cell_type": "code",
   "execution_count": 11,
   "id": "26f7485e",
   "metadata": {},
   "outputs": [
    {
     "name": "stdout",
     "output_type": "stream",
     "text": [
      "hellllloooooooo\n",
      "None\n",
      "still here!\n",
      "None\n"
     ]
    }
   ],
   "source": [
    "def hello():\n",
    "    print('hellllloooooooo')\n",
    "    \n",
    "greet = hello\n",
    "\n",
    "print(greet())\n",
    "\n",
    "def hello(func):\n",
    "    func()\n",
    "\n",
    "def greet():\n",
    "    print('still here!')\n",
    "    \n",
    "a = hello(greet)\n",
    "\n",
    "print(a)"
   ]
  },
  {
   "cell_type": "markdown",
   "id": "809f9c48",
   "metadata": {},
   "source": [
    "## Higher Order Functions"
   ]
  },
  {
   "cell_type": "code",
   "execution_count": 12,
   "id": "e0bb04e0",
   "metadata": {},
   "outputs": [],
   "source": [
    "# Higher Order Function HOC\n",
    "def greet(func):\n",
    "    func()\n",
    "    \n",
    "def greet2():\n",
    "    def func():\n",
    "        return 5\n",
    "    return func()"
   ]
  },
  {
   "cell_type": "markdown",
   "id": "7fbd0acb",
   "metadata": {},
   "source": [
    "## Decorators 2"
   ]
  },
  {
   "cell_type": "code",
   "execution_count": 19,
   "id": "db71c2d9",
   "metadata": {},
   "outputs": [
    {
     "name": "stdout",
     "output_type": "stream",
     "text": [
      "*********\n",
      "hellloooo\n",
      "*********\n",
      "*********\n",
      "see ya later\n",
      "*********\n",
      "*********\n",
      "hellloooo\n",
      "*********\n"
     ]
    }
   ],
   "source": [
    "def my_decorator(func):\n",
    "    def wrap_func():\n",
    "        print('*********')\n",
    "        func()\n",
    "        print('*********')\n",
    "    return wrap_func\n",
    "\n",
    "@my_decorator\n",
    "def hello():\n",
    "    print('hellloooo')\n",
    "\n",
    "    \n",
    "@my_decorator\n",
    "def bye():\n",
    "    print('see ya later')\n",
    "\n",
    "hello()\n",
    "bye()\n",
    "\n",
    "def hello():\n",
    "    print('hellloooo')\n",
    "\n",
    "hello2 = my_decorator(hello)\n",
    "hello2()"
   ]
  },
  {
   "cell_type": "markdown",
   "id": "34b2faac",
   "metadata": {},
   "source": [
    "## Decorators 3"
   ]
  },
  {
   "cell_type": "code",
   "execution_count": 27,
   "id": "bf7a1beb",
   "metadata": {},
   "outputs": [
    {
     "name": "stdout",
     "output_type": "stream",
     "text": [
      "*********\n",
      "hiiii :)\n",
      "*********\n",
      "*********\n",
      "hiiii :)\n",
      "*********\n",
      "*********\n",
      "hiiii :(\n",
      "*********\n"
     ]
    }
   ],
   "source": [
    "def my_decorator(func):\n",
    "    def wrap_func(x, y):\n",
    "        print('*********')\n",
    "        func(x, y)\n",
    "        print('*********')\n",
    "    return wrap_func\n",
    "\n",
    "@my_decorator\n",
    "def hello(greeting, emoji):\n",
    "    print(greeting, emoji)\n",
    "    \n",
    "hello('hiiii', ':)')\n",
    "\n",
    "def hello(greeting, emoji):\n",
    "    print(greeting, emoji)\n",
    "\n",
    "a = my_decorator(hello)\n",
    "a('hiiii', ':)')\n",
    "\n",
    "def my_decorator(func):\n",
    "    def wrap_func(*args, **kwargs):\n",
    "        print('*********')\n",
    "        func(*args, **kwargs)\n",
    "        print('*********')\n",
    "    return wrap_func\n",
    "\n",
    "@my_decorator\n",
    "def hello(greeting, emoji=':('):\n",
    "    print(greeting, emoji)\n",
    "    \n",
    "hello('hiiii')"
   ]
  },
  {
   "cell_type": "markdown",
   "id": "26120db0",
   "metadata": {},
   "source": [
    "## Why Do We Need Decorators?"
   ]
  },
  {
   "cell_type": "code",
   "execution_count": 34,
   "id": "2d3b8480",
   "metadata": {},
   "outputs": [
    {
     "name": "stdout",
     "output_type": "stream",
     "text": [
      "took 4.55926775932312 s\n"
     ]
    }
   ],
   "source": [
    "from time import time\n",
    "\n",
    "def performance(fn):\n",
    "    def wrapper(*args, **kwargs):\n",
    "        t1 = time()\n",
    "        result = fn(*args, **kwargs)\n",
    "        t2 = time()\n",
    "        print(f'took {t2-t1} s')\n",
    "        return result\n",
    "    return wrapper\n",
    "\n",
    "@performance\n",
    "def long_time():\n",
    "    for i in range (100000000):\n",
    "        i*5\n",
    "        \n",
    "long_time()"
   ]
  }
 ],
 "metadata": {
  "kernelspec": {
   "display_name": "Python 3 (ipykernel)",
   "language": "python",
   "name": "python3"
  },
  "language_info": {
   "codemirror_mode": {
    "name": "ipython",
    "version": 3
   },
   "file_extension": ".py",
   "mimetype": "text/x-python",
   "name": "python",
   "nbconvert_exporter": "python",
   "pygments_lexer": "ipython3",
   "version": "3.9.7"
  }
 },
 "nbformat": 4,
 "nbformat_minor": 5
}
