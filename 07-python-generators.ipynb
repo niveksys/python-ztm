{
 "cells": [
  {
   "cell_type": "markdown",
   "id": "6be6ce1d",
   "metadata": {},
   "source": [
    "# Advanced Python: Generators"
   ]
  },
  {
   "cell_type": "markdown",
   "id": "1e927bce",
   "metadata": {},
   "source": [
    "## Generators"
   ]
  },
  {
   "cell_type": "code",
   "execution_count": 11,
   "id": "c978ab71",
   "metadata": {},
   "outputs": [
    {
     "name": "stdout",
     "output_type": "stream",
     "text": [
      "[0, 2, 4, 6, 8, 10, 12, 14, 16, 18, 20, 22, 24, 26, 28, 30, 32, 34, 36, 38, 40, 42, 44, 46, 48, 50, 52, 54, 56, 58, 60, 62, 64, 66, 68, 70, 72, 74, 76, 78, 80, 82, 84, 86, 88, 90, 92, 94, 96, 98, 100, 102, 104, 106, 108, 110, 112, 114, 116, 118, 120, 122, 124, 126, 128, 130, 132, 134, 136, 138, 140, 142, 144, 146, 148, 150, 152, 154, 156, 158, 160, 162, 164, 166, 168, 170, 172, 174, 176, 178, 180, 182, 184, 186, 188, 190, 192, 194, 196, 198]\n",
      "[0, 1, 2, 3, 4, 5, 6, 7, 8, 9, 10, 11, 12, 13, 14, 15, 16, 17, 18, 19, 20, 21, 22, 23, 24, 25, 26, 27, 28, 29, 30, 31, 32, 33, 34, 35, 36, 37, 38, 39, 40, 41, 42, 43, 44, 45, 46, 47, 48, 49, 50, 51, 52, 53, 54, 55, 56, 57, 58, 59, 60, 61, 62, 63, 64, 65, 66, 67, 68, 69, 70, 71, 72, 73, 74, 75, 76, 77, 78, 79, 80, 81, 82, 83, 84, 85, 86, 87, 88, 89, 90, 91, 92, 93, 94, 95, 96, 97, 98, 99]\n"
     ]
    }
   ],
   "source": [
    "range(100)\n",
    "list(range(100))\n",
    "\n",
    "def make_list(num):\n",
    "    result = []\n",
    "    for i in range(num):\n",
    "        result.append(i*2)\n",
    "    return result\n",
    "\n",
    "my_list = make_list(100)\n",
    "print(my_list)\n",
    "\n",
    "print(list(range(100)))"
   ]
  },
  {
   "cell_type": "markdown",
   "id": "0d17a02f",
   "metadata": {},
   "source": [
    "## Generators 2"
   ]
  },
  {
   "cell_type": "code",
   "execution_count": 10,
   "id": "c86e23c5",
   "metadata": {},
   "outputs": [
    {
     "name": "stdout",
     "output_type": "stream",
     "text": [
      "<generator object generator_function at 0x7faae0024040>\n",
      "0\n",
      "6\n",
      "0\n",
      "2\n",
      "4\n",
      "6\n",
      "8\n",
      "10\n",
      "12\n",
      "14\n",
      "16\n",
      "18\n",
      "20\n",
      "22\n",
      "24\n",
      "26\n",
      "28\n",
      "30\n",
      "32\n",
      "34\n",
      "36\n",
      "38\n",
      "40\n",
      "42\n",
      "44\n",
      "46\n",
      "48\n",
      "50\n",
      "52\n",
      "54\n",
      "56\n",
      "58\n"
     ]
    }
   ],
   "source": [
    "# generator is a iterable\n",
    "\n",
    "def generator_function(num):\n",
    "    for i in range(num):\n",
    "        yield i*2\n",
    "\n",
    "g = generator_function(30)\n",
    "print(g)\n",
    "print(next(g))\n",
    "next(g)\n",
    "next(g)\n",
    "print(next(g))\n",
    "        \n",
    "for item in generator_function(30):\n",
    "    print(item)\n",
    "    "
   ]
  },
  {
   "cell_type": "markdown",
   "id": "472570d3",
   "metadata": {},
   "source": [
    "## Generators Performance"
   ]
  },
  {
   "cell_type": "code",
   "execution_count": 17,
   "id": "c915c07f",
   "metadata": {},
   "outputs": [
    {
     "name": "stdout",
     "output_type": "stream",
     "text": [
      "1\n",
      "took 4.414757013320923 s\n",
      "2\n",
      "took 5.665941953659058 s\n"
     ]
    }
   ],
   "source": [
    "from time import time\n",
    "\n",
    "def performance(fn):\n",
    "    def wrapper(*args, **kwargs):\n",
    "        t1 = time()\n",
    "        result = fn(*args, **kwargs)\n",
    "        t2 = time()\n",
    "        print(f'took {t2-t1} s')\n",
    "        return result\n",
    "    return wrapper\n",
    "\n",
    "@performance\n",
    "def long_time():\n",
    "    print('1')\n",
    "    for i in range(100000000):\n",
    "        i*5\n",
    "\n",
    "@performance\n",
    "def long_time2():\n",
    "    print('2')\n",
    "    for i in list(range(100000000)):\n",
    "        i*5\n",
    "        \n",
    "long_time()\n",
    "long_time2()\n",
    "\n",
    "def gen_func(num):\n",
    "    for i in range(num):\n",
    "        yield i\n",
    "        \n",
    "for item in gen_func(100):\n",
    "    pass"
   ]
  },
  {
   "cell_type": "markdown",
   "id": "f3457313",
   "metadata": {},
   "source": [
    "## Under The Hooh of Generators"
   ]
  },
  {
   "cell_type": "code",
   "execution_count": 23,
   "id": "0766ae43",
   "metadata": {},
   "outputs": [
    {
     "name": "stdout",
     "output_type": "stream",
     "text": [
      "<list_iterator object at 0x7faae0028af0>\n",
      "1\n",
      "<list_iterator object at 0x7faae0028af0>\n",
      "2\n",
      "<list_iterator object at 0x7faae0028af0>\n",
      "3\n",
      "<list_iterator object at 0x7faae0028af0>\n",
      "0\n",
      "1\n",
      "2\n",
      "3\n",
      "4\n",
      "5\n",
      "6\n",
      "7\n",
      "8\n",
      "9\n",
      "10\n",
      "11\n",
      "12\n",
      "13\n",
      "14\n",
      "15\n",
      "16\n",
      "17\n",
      "18\n",
      "19\n",
      "20\n",
      "21\n",
      "22\n",
      "23\n",
      "24\n",
      "25\n",
      "26\n",
      "27\n",
      "28\n",
      "29\n",
      "30\n",
      "31\n",
      "32\n",
      "33\n",
      "34\n",
      "35\n",
      "36\n",
      "37\n",
      "38\n",
      "39\n",
      "40\n",
      "41\n",
      "42\n",
      "43\n",
      "44\n",
      "45\n",
      "46\n",
      "47\n",
      "48\n",
      "49\n",
      "50\n",
      "51\n",
      "52\n",
      "53\n",
      "54\n",
      "55\n",
      "56\n",
      "57\n",
      "58\n",
      "59\n",
      "60\n",
      "61\n",
      "62\n",
      "63\n",
      "64\n",
      "65\n",
      "66\n",
      "67\n",
      "68\n",
      "69\n",
      "70\n",
      "71\n",
      "72\n",
      "73\n",
      "74\n",
      "75\n",
      "76\n",
      "77\n",
      "78\n",
      "79\n",
      "80\n",
      "81\n",
      "82\n",
      "83\n",
      "84\n",
      "85\n",
      "86\n",
      "87\n",
      "88\n",
      "89\n",
      "90\n",
      "91\n",
      "92\n",
      "93\n",
      "94\n",
      "95\n",
      "96\n",
      "97\n",
      "98\n",
      "99\n"
     ]
    }
   ],
   "source": [
    "def special_for(iterable):\n",
    "    iterator = iter(iterable)\n",
    "    while True:\n",
    "        try:\n",
    "            print(iterator)\n",
    "            print(next(iterator))\n",
    "        except StopIteration:\n",
    "            break\n",
    "            \n",
    "special_for([1,2,3])\n",
    "\n",
    "\n",
    "class MyGen():\n",
    "    current = 0\n",
    "    \n",
    "    def __init__(self, first, last):\n",
    "        self.first = first\n",
    "        self.last = last\n",
    "        \n",
    "    def __iter__(self):\n",
    "        return self\n",
    "    \n",
    "    def __next__(self):\n",
    "        if MyGen.current < self.last:\n",
    "            num = MyGen.current\n",
    "            MyGen.current += 1\n",
    "            return num\n",
    "        raise StopIteration\n",
    "        \n",
    "gen = MyGen(0,100)\n",
    "for i in gen:\n",
    "    print(i)"
   ]
  },
  {
   "cell_type": "markdown",
   "id": "4529b4e7",
   "metadata": {},
   "source": [
    "## Exercise: Fibonacci Numbers"
   ]
  },
  {
   "cell_type": "code",
   "execution_count": 26,
   "id": "0752cb39",
   "metadata": {},
   "outputs": [
    {
     "name": "stdout",
     "output_type": "stream",
     "text": [
      "0\n",
      "1\n",
      "1\n",
      "2\n",
      "3\n",
      "5\n",
      "8\n",
      "13\n",
      "21\n",
      "34\n",
      "55\n",
      "89\n",
      "144\n",
      "233\n",
      "377\n",
      "610\n",
      "987\n",
      "1597\n",
      "2584\n",
      "4181\n",
      "[0, 1, 1, 2, 3, 5, 8, 13, 21, 34, 55, 89, 144, 233, 377, 610, 987, 1597, 2584, 4181]\n"
     ]
    }
   ],
   "source": [
    "def fib(number):\n",
    "    a = 0\n",
    "    b = 1\n",
    "    for i in range(number):\n",
    "        yield a\n",
    "        temp = a\n",
    "        a = b\n",
    "        b = temp + b\n",
    "        \n",
    "for x in fib(20):\n",
    "    print(x)\n",
    "    \n",
    "    \n",
    "def fib2(number):\n",
    "    a = 0\n",
    "    b = 1\n",
    "    result = []\n",
    "    for i in range(number):\n",
    "        result.append(a)\n",
    "        temp = a\n",
    "        a = b\n",
    "        b = temp + b\n",
    "    return result\n",
    "\n",
    "print(fib2(20))"
   ]
  }
 ],
 "metadata": {
  "kernelspec": {
   "display_name": "Python 3 (ipykernel)",
   "language": "python",
   "name": "python3"
  },
  "language_info": {
   "codemirror_mode": {
    "name": "ipython",
    "version": 3
   },
   "file_extension": ".py",
   "mimetype": "text/x-python",
   "name": "python",
   "nbconvert_exporter": "python",
   "pygments_lexer": "ipython3",
   "version": "3.9.7"
  }
 },
 "nbformat": 4,
 "nbformat_minor": 5
}
