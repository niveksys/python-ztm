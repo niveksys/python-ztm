{
 "cells": [
  {
   "cell_type": "markdown",
   "id": "0b4544d7",
   "metadata": {},
   "source": [
    "# File I/O"
   ]
  },
  {
   "cell_type": "markdown",
   "id": "d55140f8",
   "metadata": {},
   "source": [
    "## Working With Files in Python"
   ]
  },
  {
   "cell_type": "code",
   "execution_count": 12,
   "id": "6fdd5626",
   "metadata": {},
   "outputs": [
    {
     "name": "stdout",
     "output_type": "stream",
     "text": [
      "<_io.TextIOWrapper name='test.txt' mode='r' encoding='UTF-8'>\n",
      "hi my name is Kairos Tseng\n",
      ":)\n",
      "how are you?\n",
      "hi my name is Kairos Tseng\n",
      ":)\n",
      "how are you?\n",
      "hi my name is Kairos Tseng\n",
      "\n",
      ":)\n",
      "\n",
      "how are you?\n",
      "['hi my name is Kairos Tseng\\n', ':)\\n', 'how are you?']\n"
     ]
    }
   ],
   "source": [
    "my_file = open('test.txt')\n",
    "\n",
    "print(my_file)\n",
    "print(my_file.read())\n",
    "\n",
    "my_file.seek(0)\n",
    "print(my_file.read())\n",
    "\n",
    "my_file.seek(0)\n",
    "print(my_file.readline())\n",
    "print(my_file.readline())\n",
    "print(my_file.readline())\n",
    "\n",
    "my_file.seek(0)\n",
    "print(my_file.readlines())\n",
    "\n",
    "my_file.close()"
   ]
  },
  {
   "cell_type": "markdown",
   "id": "770d2b27",
   "metadata": {},
   "source": [
    "## Read, Write, Apped"
   ]
  },
  {
   "cell_type": "code",
   "execution_count": 25,
   "id": "5d6a7aa9",
   "metadata": {},
   "outputs": [
    {
     "name": "stdout",
     "output_type": "stream",
     "text": [
      "['hi my name is Kairos Tseng\\n', ':)\\n', 'how are you?']\n",
      "11\n",
      "2\n",
      "2\n"
     ]
    }
   ],
   "source": [
    "with open('test.txt') as my_file:\n",
    "    print(my_file.readlines())\n",
    "\n",
    "with open('test2.txt', mode='r+') as my_file:\n",
    "    text = my_file.write('hey it\\' me!')\n",
    "    print(text)\n",
    "    \n",
    "with open('test2.txt', mode='a') as my_file:\n",
    "    text = my_file.write(':)')\n",
    "    print(text)\n",
    "    \n",
    "with open('sad.txt', mode='w') as my_file:\n",
    "    text = my_file.write(':(')\n",
    "    print(text)"
   ]
  },
  {
   "cell_type": "markdown",
   "id": "1f3bf8f6",
   "metadata": {},
   "source": [
    "## File Paths"
   ]
  },
  {
   "cell_type": "code",
   "execution_count": 30,
   "id": "f8db923e",
   "metadata": {},
   "outputs": [
    {
     "name": "stdout",
     "output_type": "stream",
     "text": [
      ":(\n"
     ]
    }
   ],
   "source": [
    "with open('./app/sad.txt', mode='r') as my_file:\n",
    "    print(my_file.read())"
   ]
  },
  {
   "cell_type": "markdown",
   "id": "5f4364d9",
   "metadata": {},
   "source": [
    "## File IO Errors"
   ]
  },
  {
   "cell_type": "code",
   "execution_count": 33,
   "id": "4109172d",
   "metadata": {},
   "outputs": [
    {
     "name": "stdout",
     "output_type": "stream",
     "text": [
      "file does not exist\n"
     ]
    },
    {
     "ename": "FileNotFoundError",
     "evalue": "[Errno 2] No such file or directory: './miss.txt'",
     "output_type": "error",
     "traceback": [
      "\u001b[0;31m---------------------------------------------------------------------------\u001b[0m",
      "\u001b[0;31mFileNotFoundError\u001b[0m                         Traceback (most recent call last)",
      "\u001b[0;32m/var/folders/fb/l___8l6168d4hjzdbd5vlxg80000gn/T/ipykernel_6148/23185901.py\u001b[0m in \u001b[0;36m<module>\u001b[0;34m\u001b[0m\n\u001b[1;32m      4\u001b[0m \u001b[0;32mexcept\u001b[0m \u001b[0mFileNotFoundError\u001b[0m \u001b[0;32mas\u001b[0m \u001b[0merr\u001b[0m\u001b[0;34m:\u001b[0m\u001b[0;34m\u001b[0m\u001b[0;34m\u001b[0m\u001b[0m\n\u001b[1;32m      5\u001b[0m     \u001b[0mprint\u001b[0m\u001b[0;34m(\u001b[0m\u001b[0;34m'file does not exist'\u001b[0m\u001b[0;34m)\u001b[0m\u001b[0;34m\u001b[0m\u001b[0;34m\u001b[0m\u001b[0m\n\u001b[0;32m----> 6\u001b[0;31m     \u001b[0;32mraise\u001b[0m \u001b[0merr\u001b[0m\u001b[0;34m\u001b[0m\u001b[0;34m\u001b[0m\u001b[0m\n\u001b[0m\u001b[1;32m      7\u001b[0m \u001b[0;32mexcept\u001b[0m \u001b[0mIOError\u001b[0m \u001b[0;32mas\u001b[0m \u001b[0merr\u001b[0m\u001b[0;34m:\u001b[0m\u001b[0;34m\u001b[0m\u001b[0;34m\u001b[0m\u001b[0m\n\u001b[1;32m      8\u001b[0m     \u001b[0mprint\u001b[0m\u001b[0;34m(\u001b[0m\u001b[0;34m'IO error'\u001b[0m\u001b[0;34m)\u001b[0m\u001b[0;34m\u001b[0m\u001b[0;34m\u001b[0m\u001b[0m\n",
      "\u001b[0;32m/var/folders/fb/l___8l6168d4hjzdbd5vlxg80000gn/T/ipykernel_6148/23185901.py\u001b[0m in \u001b[0;36m<module>\u001b[0;34m\u001b[0m\n\u001b[1;32m      1\u001b[0m \u001b[0;32mtry\u001b[0m\u001b[0;34m:\u001b[0m\u001b[0;34m\u001b[0m\u001b[0;34m\u001b[0m\u001b[0m\n\u001b[0;32m----> 2\u001b[0;31m     \u001b[0;32mwith\u001b[0m \u001b[0mopen\u001b[0m\u001b[0;34m(\u001b[0m\u001b[0;34m'./miss.txt'\u001b[0m\u001b[0;34m,\u001b[0m \u001b[0mmode\u001b[0m\u001b[0;34m=\u001b[0m\u001b[0;34m'r'\u001b[0m\u001b[0;34m)\u001b[0m \u001b[0;32mas\u001b[0m \u001b[0mmy_file\u001b[0m\u001b[0;34m:\u001b[0m\u001b[0;34m\u001b[0m\u001b[0;34m\u001b[0m\u001b[0m\n\u001b[0m\u001b[1;32m      3\u001b[0m         \u001b[0mprint\u001b[0m\u001b[0;34m(\u001b[0m\u001b[0mmy_file\u001b[0m\u001b[0;34m.\u001b[0m\u001b[0mread\u001b[0m\u001b[0;34m(\u001b[0m\u001b[0;34m)\u001b[0m\u001b[0;34m)\u001b[0m\u001b[0;34m\u001b[0m\u001b[0;34m\u001b[0m\u001b[0m\n\u001b[1;32m      4\u001b[0m \u001b[0;32mexcept\u001b[0m \u001b[0mFileNotFoundError\u001b[0m \u001b[0;32mas\u001b[0m \u001b[0merr\u001b[0m\u001b[0;34m:\u001b[0m\u001b[0;34m\u001b[0m\u001b[0;34m\u001b[0m\u001b[0m\n\u001b[1;32m      5\u001b[0m     \u001b[0mprint\u001b[0m\u001b[0;34m(\u001b[0m\u001b[0;34m'file does not exist'\u001b[0m\u001b[0;34m)\u001b[0m\u001b[0;34m\u001b[0m\u001b[0;34m\u001b[0m\u001b[0m\n",
      "\u001b[0;31mFileNotFoundError\u001b[0m: [Errno 2] No such file or directory: './miss.txt'"
     ]
    }
   ],
   "source": [
    "try:\n",
    "    with open('./miss.txt', mode='r') as my_file:\n",
    "        print(my_file.read())\n",
    "except FileNotFoundError as err:\n",
    "    print('file does not exist')\n",
    "    raise err\n",
    "except IOError as err:\n",
    "    print('IO error')\n",
    "    raise err"
   ]
  },
  {
   "cell_type": "markdown",
   "id": "709a5424",
   "metadata": {},
   "source": [
    "## Exercise: Translator"
   ]
  },
  {
   "cell_type": "code",
   "execution_count": 40,
   "id": "991e1b70",
   "metadata": {},
   "outputs": [
    {
     "name": "stdout",
     "output_type": "stream",
     "text": [
      "你好，我的名字是查爾斯，你怎麼樣\n"
     ]
    }
   ],
   "source": [
    "# pip install translate\n",
    "\n",
    "from translate import Translator\n",
    "\n",
    "translator = Translator(to_lang='zh-TW')\n",
    "try:\n",
    "    with open('./test.txt', mode='r') as my_file:\n",
    "        text = my_file.read()\n",
    "        translation = translator.translate(text)\n",
    "        print(translation)\n",
    "        with open('./test-zh-TW.txt', mode='w') as my_file2:\n",
    "            my_file2.write(translation)\n",
    "except FileNotFoundError as err:\n",
    "    print('check your file path silly!')"
   ]
  }
 ],
 "metadata": {
  "kernelspec": {
   "display_name": "Python 3 (ipykernel)",
   "language": "python",
   "name": "python3"
  },
  "language_info": {
   "codemirror_mode": {
    "name": "ipython",
    "version": 3
   },
   "file_extension": ".py",
   "mimetype": "text/x-python",
   "name": "python",
   "nbconvert_exporter": "python",
   "pygments_lexer": "ipython3",
   "version": "3.9.7"
  }
 },
 "nbformat": 4,
 "nbformat_minor": 5
}
